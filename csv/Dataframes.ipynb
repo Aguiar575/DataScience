{
 "cells": [
  {
   "cell_type": "raw",
   "id": "eeeb3991-22f3-42e3-8103-bc7c52ef3446",
   "metadata": {},
   "source": [
    "Dataframes com Julia"
   ]
  },
  {
   "cell_type": "raw",
   "id": "ba5e8531-7e59-40cb-b743-5738a0c6d4ef",
   "metadata": {},
   "source": [
    "Para começo de conversa, um dataframe é um objeto de duas dimensões, cada coluna possui um valor distinto, e tem como objetivo armazenar armazenar dados, ou parte de uma base de dados."
   ]
  },
  {
   "cell_type": "raw",
   "id": "e8e97944-259c-402f-b0ca-8b43eb3254d7",
   "metadata": {},
   "source": [
    "qual a diferenca entre matriz e Dataframe\n",
    "\n",
    "Uma matriz é composta por por linhas e colunas, porém todos os dados de uma matriz são do mesmo tipo, enquanto um dataframe, também composto por linhas e colunas, pode ser formado por diferentes tipos de dados.\n",
    "\n",
    "anotacao: é possível transformar matrizes em dataframes com Julia usando: DataFrame(MatrizParaSerConvertida).\n"
   ]
  },
  {
   "cell_type": "raw",
   "id": "e6d75c86-4a67-405a-b919-9b5a13bcd1ce",
   "metadata": {},
   "source": [
    "Trabalhar com dataframes é uma softskill muito útil para fazermos uma análise exploratória dos dados disponíveis, muitas vezes com uma análise simplicada, já é possível chegar a \n",
    "alguns insigths sobre como prosseguir com o processo.\n",
    "\n",
    "anotacao: Com análise exploratória conseguimos um entendimento básico do relacimento das variáveis disponíveis no dataframe, podemos usar também, usar métodos estatísticos junto da exploracão."
   ]
  },
  {
   "cell_type": "raw",
   "id": "fae1c209-74cd-413d-a2ac-0554aa2d57de",
   "metadata": {},
   "source": [
    "Comecando com Dataframes\n",
    "\n",
    "vamos comecar importando as bibliotecas que serão usadas nessa etapa."
   ]
  },
  {
   "cell_type": "code",
   "execution_count": 1,
   "id": "9e5712b4-c4d6-43f4-8076-b6847fd08c67",
   "metadata": {},
   "outputs": [
    {
     "data": {
      "text/plain": [
       "\"avocado.csv\""
      ]
     },
     "execution_count": 1,
     "metadata": {},
     "output_type": "execute_result"
    }
   ],
   "source": [
    "using DataFrames\n",
    "using CSV\n",
    "using Downloads\n",
    "\n",
    "csvFile = \"avocado.csv\""
   ]
  },
  {
   "cell_type": "raw",
   "id": "d3e11ff6-70d3-4316-b880-12fefbdd836d",
   "metadata": {},
   "source": [
    "Ao importar o csv, é feito um dump dos dados, porém mesmo estando de maneira ordenada, continua bem baguncado. Bora por ordem na casa."
   ]
  },
  {
   "cell_type": "code",
   "execution_count": 2,
   "id": "4f531e1f-b2f5-4d40-8c88-48eb04651815",
   "metadata": {},
   "outputs": [
    {
     "data": {
      "text/plain": [
       "10×1 Matrix{CSV.Row}:\n",
       " CSV.Row: (Column1 = 0, Date = Dates.Date(\"2015-12-27\"), AveragePrice = 1.33, Total Volume = 64236.62, 4046 = 1036.74, 4225 = 54454.85, 4770 = 48.16, Total Bags = 8696.87, Small Bags = 8603.62, Large Bags = 93.25, XLarge Bags = 0.0, type = \"conventional\", year = 2015, region = \"Albany\")\n",
       " CSV.Row: (Column1 = 1, Date = Dates.Date(\"2015-12-20\"), AveragePrice = 1.35, Total Volume = 54876.98, 4046 = 674.28, 4225 = 44638.81, 4770 = 58.33, Total Bags = 9505.56, Small Bags = 9408.07, Large Bags = 97.49, XLarge Bags = 0.0, type = \"conventional\", year = 2015, region = \"Albany\")\n",
       " CSV.Row: (Column1 = 2, Date = Dates.Date(\"2015-12-13\"), AveragePrice = 0.93, Total Volume = 118220.22, 4046 = 794.7, 4225 = 109149.67, 4770 = 130.5, Total Bags = 8145.35, Small Bags = 8042.21, Large Bags = 103.14, XLarge Bags = 0.0, type = \"conventional\", year = 2015, region = \"Albany\")\n",
       " CSV.Row: (Column1 = 3, Date = Dates.Date(\"2015-12-06\"), AveragePrice = 1.08, Total Volume = 78992.15, 4046 = 1132.0, 4225 = 71976.41, 4770 = 72.58, Total Bags = 5811.16, Small Bags = 5677.4, Large Bags = 133.76, XLarge Bags = 0.0, type = \"conventional\", year = 2015, region = \"Albany\")\n",
       " CSV.Row: (Column1 = 4, Date = Dates.Date(\"2015-11-29\"), AveragePrice = 1.28, Total Volume = 51039.6, 4046 = 941.48, 4225 = 43838.39, 4770 = 75.78, Total Bags = 6183.95, Small Bags = 5986.26, Large Bags = 197.69, XLarge Bags = 0.0, type = \"conventional\", year = 2015, region = \"Albany\")\n",
       " CSV.Row: (Column1 = 5, Date = Dates.Date(\"2015-11-22\"), AveragePrice = 1.26, Total Volume = 55979.78, 4046 = 1184.27, 4225 = 48067.99, 4770 = 43.61, Total Bags = 6683.91, Small Bags = 6556.47, Large Bags = 127.44, XLarge Bags = 0.0, type = \"conventional\", year = 2015, region = \"Albany\")\n",
       " CSV.Row: (Column1 = 6, Date = Dates.Date(\"2015-11-15\"), AveragePrice = 0.99, Total Volume = 83453.76, 4046 = 1368.92, 4225 = 73672.72, 4770 = 93.26, Total Bags = 8318.86, Small Bags = 8196.81, Large Bags = 122.05, XLarge Bags = 0.0, type = \"conventional\", year = 2015, region = \"Albany\")\n",
       " CSV.Row: (Column1 = 7, Date = Dates.Date(\"2015-11-08\"), AveragePrice = 0.98, Total Volume = 109428.33, 4046 = 703.75, 4225 = 101815.36, 4770 = 80.0, Total Bags = 6829.22, Small Bags = 6266.85, Large Bags = 562.37, XLarge Bags = 0.0, type = \"conventional\", year = 2015, region = \"Albany\")\n",
       " CSV.Row: (Column1 = 8, Date = Dates.Date(\"2015-11-01\"), AveragePrice = 1.02, Total Volume = 99811.42, 4046 = 1022.15, 4225 = 87315.57, 4770 = 85.34, Total Bags = 11388.36, Small Bags = 11104.53, Large Bags = 283.83, XLarge Bags = 0.0, type = \"conventional\", year = 2015, region = \"Albany\")\n",
       " CSV.Row: (Column1 = 9, Date = Dates.Date(\"2015-10-25\"), AveragePrice = 1.07, Total Volume = 74338.76, 4046 = 842.4, 4225 = 64757.44, 4770 = 113.0, Total Bags = 8625.92, Small Bags = 8061.47, Large Bags = 564.45, XLarge Bags = 0.0, type = \"conventional\", year = 2015, region = \"Albany\")"
      ]
     },
     "execution_count": 2,
     "metadata": {},
     "output_type": "execute_result"
    }
   ],
   "source": [
    "abacatesCsv = CSV.File(csvFile)[1:10,:]"
   ]
  },
  {
   "cell_type": "raw",
   "id": "9842ad01-e3bd-49d4-b56d-365db7a01392",
   "metadata": {},
   "source": [
    "Para ficar mais organizado, é só converter a matriz para um dataframe e a brincadeira comeca a ficar mais legal."
   ]
  },
  {
   "cell_type": "code",
   "execution_count": 7,
   "id": "f4efac49-69d0-4be3-84a8-ce9a5550393b",
   "metadata": {},
   "outputs": [],
   "source": [
    "abacatesDataframe = CSV.File(csvFile) |> DataFrame;"
   ]
  },
  {
   "cell_type": "raw",
   "id": "c6b75a2c-2282-4f54-9f3f-8c72a6ed32ff",
   "metadata": {},
   "source": [
    "Se tiver alguma dúvida sobre alguma funcão ou parâmetro, basta usar ˜?˜ antes do objeto de sua curiosidade."
   ]
  },
  {
   "cell_type": "code",
   "execution_count": 1,
   "id": "5ac86ba7-5b60-4a69-96fd-0e37d083da7f",
   "metadata": {},
   "outputs": [
    {
     "name": "stdout",
     "output_type": "stream",
     "text": [
      "search: \u001b[0m\u001b[1m|\u001b[22m\u001b[0m\u001b[1m>\u001b[22m\n",
      "\n"
     ]
    },
    {
     "data": {
      "text/latex": [
       "\\begin{verbatim}\n",
       "|>(x, f)\n",
       "\\end{verbatim}\n",
       "Applies a function to the preceding argument. This allows for easy function chaining.\n",
       "\n",
       "\\section{Examples}\n",
       "\\begin{verbatim}\n",
       "julia> [1:5;] |> x->x.^2 |> sum |> inv\n",
       "0.01818181818181818\n",
       "\\end{verbatim}\n"
      ],
      "text/markdown": [
       "```\n",
       "|>(x, f)\n",
       "```\n",
       "\n",
       "Applies a function to the preceding argument. This allows for easy function chaining.\n",
       "\n",
       "# Examples\n",
       "\n",
       "```jldoctest\n",
       "julia> [1:5;] |> x->x.^2 |> sum |> inv\n",
       "0.01818181818181818\n",
       "```\n"
      ],
      "text/plain": [
       "\u001b[36m  |>(x, f)\u001b[39m\n",
       "\n",
       "  Applies a function to the preceding argument. This allows for easy function\n",
       "  chaining.\n",
       "\n",
       "\u001b[1m  Examples\u001b[22m\n",
       "\u001b[1m  ≡≡≡≡≡≡≡≡≡≡\u001b[22m\n",
       "\n",
       "\u001b[36m  julia> [1:5;] |> x->x.^2 |> sum |> inv\u001b[39m\n",
       "\u001b[36m  0.01818181818181818\u001b[39m"
      ]
     },
     "execution_count": 1,
     "metadata": {},
     "output_type": "execute_result"
    }
   ],
   "source": [
    "?|>"
   ]
  },
  {
   "cell_type": "raw",
   "id": "f6e7af14-0421-48c5-ad78-d70570cf0e0d",
   "metadata": {},
   "source": [
    "Por padrão um csv é sempre delimitado por virgulas, porém caso seu arquivo possua delimitadores diferentes, Julia vai tentar identifica-lo durante a iteracão com as 10 primeiras linhas. Caso necessário é possível especificar o delimitador do arquivo."
   ]
  },
  {
   "cell_type": "code",
   "execution_count": 5,
   "id": "28fac4fe-e9b3-42b0-af76-e402ceb2874d",
   "metadata": {},
   "outputs": [
    {
     "ename": "LoadError",
     "evalue": "MethodError: no method matching read(::String, ::Type{DataFrame}; delim=\"|\")\n\u001b[0mClosest candidates are:\n\u001b[0m  read(::AbstractString, ::Type{T}) where T at io.jl:434\u001b[91m got unsupported keyword argument \"delim\"\u001b[39m\n\u001b[0m  read(::AbstractString, ::Any...) at io.jl:432\u001b[91m got unsupported keyword argument \"delim\"\u001b[39m\n\u001b[0m  read(\u001b[91m::IO\u001b[39m, ::Type) at io.jl:967\u001b[91m got unsupported keyword argument \"delim\"\u001b[39m",
     "output_type": "error",
     "traceback": [
      "MethodError: no method matching read(::String, ::Type{DataFrame}; delim=\"|\")\n\u001b[0mClosest candidates are:\n\u001b[0m  read(::AbstractString, ::Type{T}) where T at io.jl:434\u001b[91m got unsupported keyword argument \"delim\"\u001b[39m\n\u001b[0m  read(::AbstractString, ::Any...) at io.jl:432\u001b[91m got unsupported keyword argument \"delim\"\u001b[39m\n\u001b[0m  read(\u001b[91m::IO\u001b[39m, ::Type) at io.jl:967\u001b[91m got unsupported keyword argument \"delim\"\u001b[39m",
      "",
      "Stacktrace:",
      " [1] top-level scope",
      "   @ In[5]:1",
      " [2] eval",
      "   @ ./boot.jl:360 [inlined]",
      " [3] include_string(mapexpr::typeof(REPL.softscope), mod::Module, code::String, filename::String)",
      "   @ Base ./loading.jl:1116"
     ]
    }
   ],
   "source": [
    "read(csvFile, DataFrame; delim=\"|\") # segue outra forma de criar um dataframe à partir de uma matriz CSV.read(path, DataFrame;)"
   ]
  },
  {
   "cell_type": "raw",
   "id": "e601c33d-4514-4f2d-bff9-96ba754ebdcf",
   "metadata": {},
   "source": [
    "Usando sintaxes de indexacão \n",
    "\n",
    "sintexes de indexacão são as maneiras mais simples de percorrermos, ou quebrarmos um dataset em deferentes blocos. A pesquisa toda é feita de uma forma bem similar à percorrer arrays e matrizes."
   ]
  },
  {
   "cell_type": "raw",
   "id": "31247395-f2ba-4f30-b541-81bb1df5c632",
   "metadata": {},
   "source": [
    "Retornando apenas os 10 primeiros valores do dataframe "
   ]
  },
  {
   "cell_type": "code",
   "execution_count": 9,
   "id": "f8aa566f-b0e5-4dc1-8889-f106a27df5eb",
   "metadata": {},
   "outputs": [
    {
     "data": {
      "text/html": [
       "<table class=\"data-frame\"><thead><tr><th></th><th>Column1</th><th>Date</th><th>AveragePrice</th><th>Total Volume</th><th>4046</th><th>4225</th><th>4770</th><th>Total Bags</th></tr><tr><th></th><th>Int64</th><th>Date…</th><th>Float64</th><th>Float64</th><th>Float64</th><th>Float64</th><th>Float64</th><th>Float64</th></tr></thead><tbody><p>10 rows × 14 columns (omitted printing of 6 columns)</p><tr><th>1</th><td>0</td><td>2015-12-27</td><td>1.33</td><td>64236.6</td><td>1036.74</td><td>54454.8</td><td>48.16</td><td>8696.87</td></tr><tr><th>2</th><td>1</td><td>2015-12-20</td><td>1.35</td><td>54877.0</td><td>674.28</td><td>44638.8</td><td>58.33</td><td>9505.56</td></tr><tr><th>3</th><td>2</td><td>2015-12-13</td><td>0.93</td><td>1.1822e5</td><td>794.7</td><td>1.0915e5</td><td>130.5</td><td>8145.35</td></tr><tr><th>4</th><td>3</td><td>2015-12-06</td><td>1.08</td><td>78992.1</td><td>1132.0</td><td>71976.4</td><td>72.58</td><td>5811.16</td></tr><tr><th>5</th><td>4</td><td>2015-11-29</td><td>1.28</td><td>51039.6</td><td>941.48</td><td>43838.4</td><td>75.78</td><td>6183.95</td></tr><tr><th>6</th><td>5</td><td>2015-11-22</td><td>1.26</td><td>55979.8</td><td>1184.27</td><td>48068.0</td><td>43.61</td><td>6683.91</td></tr><tr><th>7</th><td>6</td><td>2015-11-15</td><td>0.99</td><td>83453.8</td><td>1368.92</td><td>73672.7</td><td>93.26</td><td>8318.86</td></tr><tr><th>8</th><td>7</td><td>2015-11-08</td><td>0.98</td><td>1.09428e5</td><td>703.75</td><td>1.01815e5</td><td>80.0</td><td>6829.22</td></tr><tr><th>9</th><td>8</td><td>2015-11-01</td><td>1.02</td><td>99811.4</td><td>1022.15</td><td>87315.6</td><td>85.34</td><td>11388.4</td></tr><tr><th>10</th><td>9</td><td>2015-10-25</td><td>1.07</td><td>74338.8</td><td>842.4</td><td>64757.4</td><td>113.0</td><td>8625.92</td></tr></tbody></table>"
      ],
      "text/latex": [
       "\\begin{tabular}{r|ccccccccc}\n",
       "\t& Column1 & Date & AveragePrice & Total Volume & 4046 & 4225 & 4770 & Total Bags & \\\\\n",
       "\t\\hline\n",
       "\t& Int64 & Date… & Float64 & Float64 & Float64 & Float64 & Float64 & Float64 & \\\\\n",
       "\t\\hline\n",
       "\t1 & 0 & 2015-12-27 & 1.33 & 64236.6 & 1036.74 & 54454.8 & 48.16 & 8696.87 & $\\dots$ \\\\\n",
       "\t2 & 1 & 2015-12-20 & 1.35 & 54877.0 & 674.28 & 44638.8 & 58.33 & 9505.56 & $\\dots$ \\\\\n",
       "\t3 & 2 & 2015-12-13 & 0.93 & 1.1822e5 & 794.7 & 1.0915e5 & 130.5 & 8145.35 & $\\dots$ \\\\\n",
       "\t4 & 3 & 2015-12-06 & 1.08 & 78992.1 & 1132.0 & 71976.4 & 72.58 & 5811.16 & $\\dots$ \\\\\n",
       "\t5 & 4 & 2015-11-29 & 1.28 & 51039.6 & 941.48 & 43838.4 & 75.78 & 6183.95 & $\\dots$ \\\\\n",
       "\t6 & 5 & 2015-11-22 & 1.26 & 55979.8 & 1184.27 & 48068.0 & 43.61 & 6683.91 & $\\dots$ \\\\\n",
       "\t7 & 6 & 2015-11-15 & 0.99 & 83453.8 & 1368.92 & 73672.7 & 93.26 & 8318.86 & $\\dots$ \\\\\n",
       "\t8 & 7 & 2015-11-08 & 0.98 & 1.09428e5 & 703.75 & 1.01815e5 & 80.0 & 6829.22 & $\\dots$ \\\\\n",
       "\t9 & 8 & 2015-11-01 & 1.02 & 99811.4 & 1022.15 & 87315.6 & 85.34 & 11388.4 & $\\dots$ \\\\\n",
       "\t10 & 9 & 2015-10-25 & 1.07 & 74338.8 & 842.4 & 64757.4 & 113.0 & 8625.92 & $\\dots$ \\\\\n",
       "\\end{tabular}\n"
      ],
      "text/plain": [
       "\u001b[1m10×14 DataFrame\u001b[0m\n",
       "\u001b[1m Row \u001b[0m│\u001b[1m Column1 \u001b[0m\u001b[1m Date       \u001b[0m\u001b[1m AveragePrice \u001b[0m\u001b[1m Total Volume  \u001b[0m\u001b[1m 4046    \u001b[0m\u001b[1m 4225        \u001b[0m ⋯\n",
       "\u001b[1m     \u001b[0m│\u001b[90m Int64   \u001b[0m\u001b[90m Date…      \u001b[0m\u001b[90m Float64      \u001b[0m\u001b[90m Float64       \u001b[0m\u001b[90m Float64 \u001b[0m\u001b[90m Float64     \u001b[0m ⋯\n",
       "─────┼──────────────────────────────────────────────────────────────────────────\n",
       "   1 │       0  2015-12-27          1.33  64236.6        1036.74  54454.8      ⋯\n",
       "   2 │       1  2015-12-20          1.35  54877.0         674.28  44638.8\n",
       "   3 │       2  2015-12-13          0.93      1.1822e5    794.7       1.0915e5\n",
       "   4 │       3  2015-12-06          1.08  78992.1        1132.0   71976.4\n",
       "   5 │       4  2015-11-29          1.28  51039.6         941.48  43838.4      ⋯\n",
       "   6 │       5  2015-11-22          1.26  55979.8        1184.27  48068.0\n",
       "   7 │       6  2015-11-15          0.99  83453.8        1368.92  73672.7\n",
       "   8 │       7  2015-11-08          0.98      1.09428e5   703.75      1.01815e\n",
       "   9 │       8  2015-11-01          1.02  99811.4        1022.15  87315.6      ⋯\n",
       "  10 │       9  2015-10-25          1.07  74338.8         842.4   64757.4\n",
       "\u001b[36m                                                               9 columns omitted\u001b[0m"
      ]
     },
     "execution_count": 9,
     "metadata": {},
     "output_type": "execute_result"
    }
   ],
   "source": [
    "abacatesDataframe[1:10,:]"
   ]
  },
  {
   "cell_type": "raw",
   "id": "79a60c39-654e-46c0-a8f6-92be162b2328",
   "metadata": {},
   "source": [
    "Buscando por linhas específicas:"
   ]
  },
  {
   "cell_type": "code",
   "execution_count": 20,
   "id": "7f9e6d78-0b1b-4864-bb68-b81e72ada374",
   "metadata": {},
   "outputs": [
    {
     "data": {
      "text/html": [
       "<table class=\"data-frame\"><thead><tr><th></th><th>Column1</th><th>Date</th><th>AveragePrice</th><th>Total Volume</th><th>4046</th><th>4225</th><th>4770</th><th>Total Bags</th></tr><tr><th></th><th>Int64</th><th>Date…</th><th>Float64</th><th>Float64</th><th>Float64</th><th>Float64</th><th>Float64</th><th>Float64</th></tr></thead><tbody><p>3 rows × 14 columns (omitted printing of 6 columns)</p><tr><th>1</th><td>0</td><td>2015-12-27</td><td>1.33</td><td>64236.6</td><td>1036.74</td><td>54454.8</td><td>48.16</td><td>8696.87</td></tr><tr><th>2</th><td>4</td><td>2015-11-29</td><td>1.28</td><td>51039.6</td><td>941.48</td><td>43838.4</td><td>75.78</td><td>6183.95</td></tr><tr><th>3</th><td>9</td><td>2015-10-25</td><td>1.07</td><td>74338.8</td><td>842.4</td><td>64757.4</td><td>113.0</td><td>8625.92</td></tr></tbody></table>"
      ],
      "text/latex": [
       "\\begin{tabular}{r|ccccccccc}\n",
       "\t& Column1 & Date & AveragePrice & Total Volume & 4046 & 4225 & 4770 & Total Bags & \\\\\n",
       "\t\\hline\n",
       "\t& Int64 & Date… & Float64 & Float64 & Float64 & Float64 & Float64 & Float64 & \\\\\n",
       "\t\\hline\n",
       "\t1 & 0 & 2015-12-27 & 1.33 & 64236.6 & 1036.74 & 54454.8 & 48.16 & 8696.87 & $\\dots$ \\\\\n",
       "\t2 & 4 & 2015-11-29 & 1.28 & 51039.6 & 941.48 & 43838.4 & 75.78 & 6183.95 & $\\dots$ \\\\\n",
       "\t3 & 9 & 2015-10-25 & 1.07 & 74338.8 & 842.4 & 64757.4 & 113.0 & 8625.92 & $\\dots$ \\\\\n",
       "\\end{tabular}\n"
      ],
      "text/plain": [
       "\u001b[1m3×14 DataFrame\u001b[0m\n",
       "\u001b[1m Row \u001b[0m│\u001b[1m Column1 \u001b[0m\u001b[1m Date       \u001b[0m\u001b[1m AveragePrice \u001b[0m\u001b[1m Total Volume \u001b[0m\u001b[1m 4046    \u001b[0m\u001b[1m 4225    \u001b[0m\u001b[1m 4770\u001b[0m ⋯\n",
       "\u001b[1m     \u001b[0m│\u001b[90m Int64   \u001b[0m\u001b[90m Date…      \u001b[0m\u001b[90m Float64      \u001b[0m\u001b[90m Float64      \u001b[0m\u001b[90m Float64 \u001b[0m\u001b[90m Float64 \u001b[0m\u001b[90m Floa\u001b[0m ⋯\n",
       "─────┼──────────────────────────────────────────────────────────────────────────\n",
       "   1 │       0  2015-12-27          1.33       64236.6  1036.74  54454.8    48 ⋯\n",
       "   2 │       4  2015-11-29          1.28       51039.6   941.48  43838.4    75\n",
       "   3 │       9  2015-10-25          1.07       74338.8   842.4   64757.4   113\n",
       "\u001b[36m                                                               8 columns omitted\u001b[0m"
      ]
     },
     "execution_count": 20,
     "metadata": {},
     "output_type": "execute_result"
    }
   ],
   "source": [
    "abacatesDataframe[[1, 5, 10], :]"
   ]
  },
  {
   "cell_type": "raw",
   "id": "c390f79e-48d4-4e85-afbf-607f8b228067",
   "metadata": {},
   "source": [
    "nrow é uma funcão ótima para descobrir quantos dados o arquivo possui"
   ]
  },
  {
   "cell_type": "code",
   "execution_count": 10,
   "id": "09e406c7-6652-4997-ad36-39a66565b631",
   "metadata": {},
   "outputs": [
    {
     "data": {
      "text/plain": [
       "18249"
      ]
     },
     "execution_count": 10,
     "metadata": {},
     "output_type": "execute_result"
    }
   ],
   "source": [
    "nrow(abacatesDataframe)"
   ]
  },
  {
   "cell_type": "raw",
   "id": "f6032f18-79f6-424a-808f-eb830a5781d7",
   "metadata": {},
   "source": [
    "Continuando com a exploracão do arquivo, o parametro allrows=true, faz um dump de todas as linhas do arquivo."
   ]
  },
  {
   "cell_type": "code",
   "execution_count": null,
   "id": "6055d7a2-8f11-4347-8216-7c3f9681315b",
   "metadata": {},
   "outputs": [],
   "source": [
    "#ver todas as linhas do dataframe\n",
    "show(abacatesDataframe, allrows=true)"
   ]
  },
  {
   "cell_type": "raw",
   "id": "4cc1f89f-c111-47e4-b037-80cb835372db",
   "metadata": {},
   "source": [
    "Na mesma funcão que o parametro allrows=true, o parametro allcols=true mostra todas as colunas do arquivo, mesmo que elas não caibam na tela."
   ]
  },
  {
   "cell_type": "code",
   "execution_count": 11,
   "id": "49cbc15f-7472-4a21-a8b6-65760d4234df",
   "metadata": {},
   "outputs": [
    {
     "name": "stdout",
     "output_type": "stream",
     "text": [
      "\u001b[1m18249×14 DataFrame\u001b[0m\n",
      "\u001b[1m   Row \u001b[0m│\u001b[1m Column1 \u001b[0m\u001b[1m Date       \u001b[0m\u001b[1m AveragePrice \u001b[0m\u001b[1m Total Volume  \u001b[0m\u001b[1m 4046     \u001b[0m\u001b[1m 4225          \u001b[0m\u001b[1m 4770    \u001b[0m\u001b[1m Total Bags    \u001b[0m\u001b[1m Small Bags    \u001b[0m\u001b[1m Large Bags \u001b[0m\u001b[1m XLarge Bags \u001b[0m\u001b[1m type         \u001b[0m\u001b[1m year  \u001b[0m\u001b[1m region           \u001b[0m\n",
      "\u001b[1m       \u001b[0m│\u001b[90m Int64   \u001b[0m\u001b[90m Date…      \u001b[0m\u001b[90m Float64      \u001b[0m\u001b[90m Float64       \u001b[0m\u001b[90m Float64  \u001b[0m\u001b[90m Float64       \u001b[0m\u001b[90m Float64 \u001b[0m\u001b[90m Float64       \u001b[0m\u001b[90m Float64       \u001b[0m\u001b[90m Float64    \u001b[0m\u001b[90m Float64     \u001b[0m\u001b[90m String       \u001b[0m\u001b[90m Int64 \u001b[0m\u001b[90m String           \u001b[0m\n",
      "───────┼──────────────────────────────────────────────────────────────────────────────────────────────────────────────────────────────────────────────────────────────────────────────────\n",
      "     1 │       0  2015-12-27          1.33  64236.6         1036.74  54454.8          48.16   8696.87        8603.62            93.25         0.0   conventional   2015  Albany\n",
      "     2 │       1  2015-12-20          1.35  54877.0          674.28  44638.8          58.33   9505.56        9408.07            97.49         0.0   conventional   2015  Albany\n",
      "     3 │       2  2015-12-13          0.93      1.1822e5     794.7       1.0915e5    130.5    8145.35        8042.21           103.14         0.0   conventional   2015  Albany\n",
      "     4 │       3  2015-12-06          1.08  78992.1         1132.0   71976.4          72.58   5811.16        5677.4            133.76         0.0   conventional   2015  Albany\n",
      "     5 │       4  2015-11-29          1.28  51039.6          941.48  43838.4          75.78   6183.95        5986.26           197.69         0.0   conventional   2015  Albany\n",
      "     6 │       5  2015-11-22          1.26  55979.8         1184.27  48068.0          43.61   6683.91        6556.47           127.44         0.0   conventional   2015  Albany\n",
      "     7 │       6  2015-11-15          0.99  83453.8         1368.92  73672.7          93.26   8318.86        8196.81           122.05         0.0   conventional   2015  Albany\n",
      "     8 │       7  2015-11-08          0.98      1.09428e5    703.75      1.01815e5    80.0    6829.22        6266.85           562.37         0.0   conventional   2015  Albany\n",
      "     9 │       8  2015-11-01          1.02  99811.4         1022.15  87315.6          85.34  11388.4        11104.5            283.83         0.0   conventional   2015  Albany\n",
      "    10 │       9  2015-10-25          1.07  74338.8          842.4   64757.4         113.0    8625.92        8061.47           564.45         0.0   conventional   2015  Albany\n",
      "    11 │      10  2015-10-18          1.12  84843.4          924.86  75595.9         117.07   8205.66        7877.86           327.8          0.0   conventional   2015  Albany\n",
      "   ⋮   │    ⋮         ⋮            ⋮              ⋮           ⋮            ⋮           ⋮           ⋮              ⋮            ⋮            ⋮            ⋮          ⋮           ⋮\n",
      " 18240 │       2  2018-03-11          1.56  22128.4         2162.67   3194.25          8.93  16762.6        16510.3            252.25         0.0   organic        2018  WestTexNewMexico\n",
      " 18241 │       3  2018-03-04          1.54  17393.3         1832.24   1905.57          0.0   13655.5        13401.9            253.56         0.0   organic        2018  WestTexNewMexico\n",
      " 18242 │       4  2018-02-25          1.57  18421.2         1974.26   2482.65          0.0   13964.3        13698.3            266.06         0.0   organic        2018  WestTexNewMexico\n",
      " 18243 │       5  2018-02-18          1.56  17597.1         1892.05   1928.36          0.0   13776.7        13553.5            223.18         0.0   organic        2018  WestTexNewMexico\n",
      " 18244 │       6  2018-02-11          1.57  15986.2         1924.28   1368.32          0.0   12693.6        12437.4            256.22         0.0   organic        2018  WestTexNewMexico\n",
      " 18245 │       7  2018-02-04          1.63  17074.8         2046.96   1529.2           0.0   13498.7        13066.8            431.85         0.0   organic        2018  WestTexNewMexico\n",
      " 18246 │       8  2018-01-28          1.71  13888.0         1191.7    3431.5           0.0    9264.84        8940.04           324.8          0.0   organic        2018  WestTexNewMexico\n",
      " 18247 │       9  2018-01-21          1.87  13766.8         1191.92   2452.79        727.94   9394.11        9351.8             42.31         0.0   organic        2018  WestTexNewMexico\n",
      " 18248 │      10  2018-01-14          1.93  16205.2         1527.63   2981.04        727.01  10969.5        10919.5             50.0          0.0   organic        2018  WestTexNewMexico\n",
      " 18249 │      11  2018-01-07          1.62  17489.6         2894.77   2356.13        224.53  12014.1        11988.1             26.01         0.0   organic        2018  WestTexNewMexico\n",
      "\u001b[36m                                                                                                                                                                        18228 rows omitted\u001b[0m"
     ]
    }
   ],
   "source": [
    "#ver todas as colunas, até as que nao cabem na tela\n",
    "show(abacatesDataframe, allcols=true)"
   ]
  },
  {
   "cell_type": "raw",
   "id": "eb73da18-2183-4623-ae69-10c348132ced",
   "metadata": {},
   "source": [
    "Podemos percorrer as colunas do arquivo com eachcol, somando com a funcão eltype, recebemos o retorno dos tipos de cada coluna."
   ]
  },
  {
   "cell_type": "code",
   "execution_count": 12,
   "id": "a0812d12-a1a1-4167-b058-81fc60ebe465",
   "metadata": {},
   "outputs": [
    {
     "data": {
      "text/plain": [
       "14-element Vector{DataType}:\n",
       " Int64\n",
       " Dates.Date\n",
       " Float64\n",
       " Float64\n",
       " Float64\n",
       " Float64\n",
       " Float64\n",
       " Float64\n",
       " Float64\n",
       " Float64\n",
       " Float64\n",
       " String\n",
       " Int64\n",
       " String"
      ]
     },
     "execution_count": 12,
     "metadata": {},
     "output_type": "execute_result"
    }
   ],
   "source": [
    "eltype.(eachcol(abacatesDataframe))"
   ]
  },
  {
   "cell_type": "raw",
   "id": "9f481d02-710c-4fe6-afeb-576a26f0ae33",
   "metadata": {},
   "source": [
    "podemos buscar dados do início ou do fim do arquivo com First(DataFrame, QuantidadeDeArquivosParaRetorno) e Last(DataFrame, QuantidadeDeArquivosParaRetorno)"
   ]
  },
  {
   "cell_type": "code",
   "execution_count": 13,
   "id": "1f52a9ed-c28f-4047-96fe-3d4f57e4e469",
   "metadata": {},
   "outputs": [
    {
     "data": {
      "text/html": [
       "<table class=\"data-frame\"><thead><tr><th></th><th>Column1</th><th>Date</th><th>AveragePrice</th><th>Total Volume</th><th>4046</th><th>4225</th><th>4770</th><th>Total Bags</th></tr><tr><th></th><th>Int64</th><th>Date…</th><th>Float64</th><th>Float64</th><th>Float64</th><th>Float64</th><th>Float64</th><th>Float64</th></tr></thead><tbody><p>10 rows × 14 columns (omitted printing of 6 columns)</p><tr><th>1</th><td>2</td><td>2018-03-11</td><td>1.56</td><td>22128.4</td><td>2162.67</td><td>3194.25</td><td>8.93</td><td>16762.6</td></tr><tr><th>2</th><td>3</td><td>2018-03-04</td><td>1.54</td><td>17393.3</td><td>1832.24</td><td>1905.57</td><td>0.0</td><td>13655.5</td></tr><tr><th>3</th><td>4</td><td>2018-02-25</td><td>1.57</td><td>18421.2</td><td>1974.26</td><td>2482.65</td><td>0.0</td><td>13964.3</td></tr><tr><th>4</th><td>5</td><td>2018-02-18</td><td>1.56</td><td>17597.1</td><td>1892.05</td><td>1928.36</td><td>0.0</td><td>13776.7</td></tr><tr><th>5</th><td>6</td><td>2018-02-11</td><td>1.57</td><td>15986.2</td><td>1924.28</td><td>1368.32</td><td>0.0</td><td>12693.6</td></tr><tr><th>6</th><td>7</td><td>2018-02-04</td><td>1.63</td><td>17074.8</td><td>2046.96</td><td>1529.2</td><td>0.0</td><td>13498.7</td></tr><tr><th>7</th><td>8</td><td>2018-01-28</td><td>1.71</td><td>13888.0</td><td>1191.7</td><td>3431.5</td><td>0.0</td><td>9264.84</td></tr><tr><th>8</th><td>9</td><td>2018-01-21</td><td>1.87</td><td>13766.8</td><td>1191.92</td><td>2452.79</td><td>727.94</td><td>9394.11</td></tr><tr><th>9</th><td>10</td><td>2018-01-14</td><td>1.93</td><td>16205.2</td><td>1527.63</td><td>2981.04</td><td>727.01</td><td>10969.5</td></tr><tr><th>10</th><td>11</td><td>2018-01-07</td><td>1.62</td><td>17489.6</td><td>2894.77</td><td>2356.13</td><td>224.53</td><td>12014.1</td></tr></tbody></table>"
      ],
      "text/latex": [
       "\\begin{tabular}{r|ccccccccc}\n",
       "\t& Column1 & Date & AveragePrice & Total Volume & 4046 & 4225 & 4770 & Total Bags & \\\\\n",
       "\t\\hline\n",
       "\t& Int64 & Date… & Float64 & Float64 & Float64 & Float64 & Float64 & Float64 & \\\\\n",
       "\t\\hline\n",
       "\t1 & 2 & 2018-03-11 & 1.56 & 22128.4 & 2162.67 & 3194.25 & 8.93 & 16762.6 & $\\dots$ \\\\\n",
       "\t2 & 3 & 2018-03-04 & 1.54 & 17393.3 & 1832.24 & 1905.57 & 0.0 & 13655.5 & $\\dots$ \\\\\n",
       "\t3 & 4 & 2018-02-25 & 1.57 & 18421.2 & 1974.26 & 2482.65 & 0.0 & 13964.3 & $\\dots$ \\\\\n",
       "\t4 & 5 & 2018-02-18 & 1.56 & 17597.1 & 1892.05 & 1928.36 & 0.0 & 13776.7 & $\\dots$ \\\\\n",
       "\t5 & 6 & 2018-02-11 & 1.57 & 15986.2 & 1924.28 & 1368.32 & 0.0 & 12693.6 & $\\dots$ \\\\\n",
       "\t6 & 7 & 2018-02-04 & 1.63 & 17074.8 & 2046.96 & 1529.2 & 0.0 & 13498.7 & $\\dots$ \\\\\n",
       "\t7 & 8 & 2018-01-28 & 1.71 & 13888.0 & 1191.7 & 3431.5 & 0.0 & 9264.84 & $\\dots$ \\\\\n",
       "\t8 & 9 & 2018-01-21 & 1.87 & 13766.8 & 1191.92 & 2452.79 & 727.94 & 9394.11 & $\\dots$ \\\\\n",
       "\t9 & 10 & 2018-01-14 & 1.93 & 16205.2 & 1527.63 & 2981.04 & 727.01 & 10969.5 & $\\dots$ \\\\\n",
       "\t10 & 11 & 2018-01-07 & 1.62 & 17489.6 & 2894.77 & 2356.13 & 224.53 & 12014.1 & $\\dots$ \\\\\n",
       "\\end{tabular}\n"
      ],
      "text/plain": [
       "\u001b[1m10×14 DataFrame\u001b[0m\n",
       "\u001b[1m Row \u001b[0m│\u001b[1m Column1 \u001b[0m\u001b[1m Date       \u001b[0m\u001b[1m AveragePrice \u001b[0m\u001b[1m Total Volume \u001b[0m\u001b[1m 4046    \u001b[0m\u001b[1m 4225    \u001b[0m\u001b[1m 4770\u001b[0m ⋯\n",
       "\u001b[1m     \u001b[0m│\u001b[90m Int64   \u001b[0m\u001b[90m Date…      \u001b[0m\u001b[90m Float64      \u001b[0m\u001b[90m Float64      \u001b[0m\u001b[90m Float64 \u001b[0m\u001b[90m Float64 \u001b[0m\u001b[90m Floa\u001b[0m ⋯\n",
       "─────┼──────────────────────────────────────────────────────────────────────────\n",
       "   1 │       2  2018-03-11          1.56       22128.4  2162.67  3194.25     8 ⋯\n",
       "   2 │       3  2018-03-04          1.54       17393.3  1832.24  1905.57     0\n",
       "   3 │       4  2018-02-25          1.57       18421.2  1974.26  2482.65     0\n",
       "   4 │       5  2018-02-18          1.56       17597.1  1892.05  1928.36     0\n",
       "   5 │       6  2018-02-11          1.57       15986.2  1924.28  1368.32     0 ⋯\n",
       "   6 │       7  2018-02-04          1.63       17074.8  2046.96  1529.2      0\n",
       "   7 │       8  2018-01-28          1.71       13888.0  1191.7   3431.5      0\n",
       "   8 │       9  2018-01-21          1.87       13766.8  1191.92  2452.79   727\n",
       "   9 │      10  2018-01-14          1.93       16205.2  1527.63  2981.04   727 ⋯\n",
       "  10 │      11  2018-01-07          1.62       17489.6  2894.77  2356.13   224\n",
       "\u001b[36m                                                               8 columns omitted\u001b[0m"
      ]
     },
     "execution_count": 13,
     "metadata": {},
     "output_type": "execute_result"
    }
   ],
   "source": [
    "#10 ultimas\n",
    "last(abacatesDataframe, 10)"
   ]
  },
  {
   "cell_type": "code",
   "execution_count": 14,
   "id": "da947966-7a3b-4082-85bb-016f4fcce178",
   "metadata": {},
   "outputs": [
    {
     "data": {
      "text/html": [
       "<table class=\"data-frame\"><thead><tr><th></th><th>Column1</th><th>Date</th><th>AveragePrice</th><th>Total Volume</th><th>4046</th><th>4225</th><th>4770</th><th>Total Bags</th></tr><tr><th></th><th>Int64</th><th>Date…</th><th>Float64</th><th>Float64</th><th>Float64</th><th>Float64</th><th>Float64</th><th>Float64</th></tr></thead><tbody><p>10 rows × 14 columns (omitted printing of 6 columns)</p><tr><th>1</th><td>0</td><td>2015-12-27</td><td>1.33</td><td>64236.6</td><td>1036.74</td><td>54454.8</td><td>48.16</td><td>8696.87</td></tr><tr><th>2</th><td>1</td><td>2015-12-20</td><td>1.35</td><td>54877.0</td><td>674.28</td><td>44638.8</td><td>58.33</td><td>9505.56</td></tr><tr><th>3</th><td>2</td><td>2015-12-13</td><td>0.93</td><td>1.1822e5</td><td>794.7</td><td>1.0915e5</td><td>130.5</td><td>8145.35</td></tr><tr><th>4</th><td>3</td><td>2015-12-06</td><td>1.08</td><td>78992.1</td><td>1132.0</td><td>71976.4</td><td>72.58</td><td>5811.16</td></tr><tr><th>5</th><td>4</td><td>2015-11-29</td><td>1.28</td><td>51039.6</td><td>941.48</td><td>43838.4</td><td>75.78</td><td>6183.95</td></tr><tr><th>6</th><td>5</td><td>2015-11-22</td><td>1.26</td><td>55979.8</td><td>1184.27</td><td>48068.0</td><td>43.61</td><td>6683.91</td></tr><tr><th>7</th><td>6</td><td>2015-11-15</td><td>0.99</td><td>83453.8</td><td>1368.92</td><td>73672.7</td><td>93.26</td><td>8318.86</td></tr><tr><th>8</th><td>7</td><td>2015-11-08</td><td>0.98</td><td>1.09428e5</td><td>703.75</td><td>1.01815e5</td><td>80.0</td><td>6829.22</td></tr><tr><th>9</th><td>8</td><td>2015-11-01</td><td>1.02</td><td>99811.4</td><td>1022.15</td><td>87315.6</td><td>85.34</td><td>11388.4</td></tr><tr><th>10</th><td>9</td><td>2015-10-25</td><td>1.07</td><td>74338.8</td><td>842.4</td><td>64757.4</td><td>113.0</td><td>8625.92</td></tr></tbody></table>"
      ],
      "text/latex": [
       "\\begin{tabular}{r|ccccccccc}\n",
       "\t& Column1 & Date & AveragePrice & Total Volume & 4046 & 4225 & 4770 & Total Bags & \\\\\n",
       "\t\\hline\n",
       "\t& Int64 & Date… & Float64 & Float64 & Float64 & Float64 & Float64 & Float64 & \\\\\n",
       "\t\\hline\n",
       "\t1 & 0 & 2015-12-27 & 1.33 & 64236.6 & 1036.74 & 54454.8 & 48.16 & 8696.87 & $\\dots$ \\\\\n",
       "\t2 & 1 & 2015-12-20 & 1.35 & 54877.0 & 674.28 & 44638.8 & 58.33 & 9505.56 & $\\dots$ \\\\\n",
       "\t3 & 2 & 2015-12-13 & 0.93 & 1.1822e5 & 794.7 & 1.0915e5 & 130.5 & 8145.35 & $\\dots$ \\\\\n",
       "\t4 & 3 & 2015-12-06 & 1.08 & 78992.1 & 1132.0 & 71976.4 & 72.58 & 5811.16 & $\\dots$ \\\\\n",
       "\t5 & 4 & 2015-11-29 & 1.28 & 51039.6 & 941.48 & 43838.4 & 75.78 & 6183.95 & $\\dots$ \\\\\n",
       "\t6 & 5 & 2015-11-22 & 1.26 & 55979.8 & 1184.27 & 48068.0 & 43.61 & 6683.91 & $\\dots$ \\\\\n",
       "\t7 & 6 & 2015-11-15 & 0.99 & 83453.8 & 1368.92 & 73672.7 & 93.26 & 8318.86 & $\\dots$ \\\\\n",
       "\t8 & 7 & 2015-11-08 & 0.98 & 1.09428e5 & 703.75 & 1.01815e5 & 80.0 & 6829.22 & $\\dots$ \\\\\n",
       "\t9 & 8 & 2015-11-01 & 1.02 & 99811.4 & 1022.15 & 87315.6 & 85.34 & 11388.4 & $\\dots$ \\\\\n",
       "\t10 & 9 & 2015-10-25 & 1.07 & 74338.8 & 842.4 & 64757.4 & 113.0 & 8625.92 & $\\dots$ \\\\\n",
       "\\end{tabular}\n"
      ],
      "text/plain": [
       "\u001b[1m10×14 DataFrame\u001b[0m\n",
       "\u001b[1m Row \u001b[0m│\u001b[1m Column1 \u001b[0m\u001b[1m Date       \u001b[0m\u001b[1m AveragePrice \u001b[0m\u001b[1m Total Volume  \u001b[0m\u001b[1m 4046    \u001b[0m\u001b[1m 4225        \u001b[0m ⋯\n",
       "\u001b[1m     \u001b[0m│\u001b[90m Int64   \u001b[0m\u001b[90m Date…      \u001b[0m\u001b[90m Float64      \u001b[0m\u001b[90m Float64       \u001b[0m\u001b[90m Float64 \u001b[0m\u001b[90m Float64     \u001b[0m ⋯\n",
       "─────┼──────────────────────────────────────────────────────────────────────────\n",
       "   1 │       0  2015-12-27          1.33  64236.6        1036.74  54454.8      ⋯\n",
       "   2 │       1  2015-12-20          1.35  54877.0         674.28  44638.8\n",
       "   3 │       2  2015-12-13          0.93      1.1822e5    794.7       1.0915e5\n",
       "   4 │       3  2015-12-06          1.08  78992.1        1132.0   71976.4\n",
       "   5 │       4  2015-11-29          1.28  51039.6         941.48  43838.4      ⋯\n",
       "   6 │       5  2015-11-22          1.26  55979.8        1184.27  48068.0\n",
       "   7 │       6  2015-11-15          0.99  83453.8        1368.92  73672.7\n",
       "   8 │       7  2015-11-08          0.98      1.09428e5   703.75      1.01815e\n",
       "   9 │       8  2015-11-01          1.02  99811.4        1022.15  87315.6      ⋯\n",
       "  10 │       9  2015-10-25          1.07  74338.8         842.4   64757.4\n",
       "\u001b[36m                                                               9 columns omitted\u001b[0m"
      ]
     },
     "execution_count": 14,
     "metadata": {},
     "output_type": "execute_result"
    }
   ],
   "source": [
    "#10 primeras\n",
    "first(abacatesDataframe, 10)"
   ]
  },
  {
   "cell_type": "raw",
   "id": "7cc6aa16-5b4d-4fae-bf21-e983e16bb477",
   "metadata": {},
   "source": [
    "Busca por colunas\n",
    "\n",
    "Existem diferentes maneiras para retornarmos os dados de uma coluna."
   ]
  },
  {
   "cell_type": "code",
   "execution_count": 21,
   "id": "52f3ae01-f620-4483-84ff-c4e5b353528a",
   "metadata": {},
   "outputs": [
    {
     "data": {
      "text/plain": [
       "18249-element Vector{Float64}:\n",
       " 1.33\n",
       " 1.35\n",
       " 0.93\n",
       " 1.08\n",
       " 1.28\n",
       " 1.26\n",
       " 0.99\n",
       " 0.98\n",
       " 1.02\n",
       " 1.07\n",
       " 1.12\n",
       " 1.28\n",
       " 1.31\n",
       " ⋮\n",
       " 1.62\n",
       " 1.56\n",
       " 1.56\n",
       " 1.54\n",
       " 1.57\n",
       " 1.56\n",
       " 1.57\n",
       " 1.63\n",
       " 1.71\n",
       " 1.87\n",
       " 1.93\n",
       " 1.62"
      ]
     },
     "execution_count": 21,
     "metadata": {},
     "output_type": "execute_result"
    }
   ],
   "source": [
    "abacatesDataframe.AveragePrice"
   ]
  },
  {
   "cell_type": "code",
   "execution_count": 23,
   "id": "1943a5bd-c969-4671-8a2a-335ceb919e21",
   "metadata": {},
   "outputs": [
    {
     "data": {
      "text/html": [
       "<table class=\"data-frame\"><thead><tr><th></th><th>AveragePrice</th></tr><tr><th></th><th>Float64</th></tr></thead><tbody><p>18,249 rows × 1 columns</p><tr><th>1</th><td>1.33</td></tr><tr><th>2</th><td>1.35</td></tr><tr><th>3</th><td>0.93</td></tr><tr><th>4</th><td>1.08</td></tr><tr><th>5</th><td>1.28</td></tr><tr><th>6</th><td>1.26</td></tr><tr><th>7</th><td>0.99</td></tr><tr><th>8</th><td>0.98</td></tr><tr><th>9</th><td>1.02</td></tr><tr><th>10</th><td>1.07</td></tr><tr><th>11</th><td>1.12</td></tr><tr><th>12</th><td>1.28</td></tr><tr><th>13</th><td>1.31</td></tr><tr><th>14</th><td>0.99</td></tr><tr><th>15</th><td>1.33</td></tr><tr><th>16</th><td>1.28</td></tr><tr><th>17</th><td>1.11</td></tr><tr><th>18</th><td>1.07</td></tr><tr><th>19</th><td>1.34</td></tr><tr><th>20</th><td>1.33</td></tr><tr><th>21</th><td>1.12</td></tr><tr><th>22</th><td>1.45</td></tr><tr><th>23</th><td>1.11</td></tr><tr><th>24</th><td>1.26</td></tr><tr><th>25</th><td>1.05</td></tr><tr><th>26</th><td>1.35</td></tr><tr><th>27</th><td>1.37</td></tr><tr><th>28</th><td>1.27</td></tr><tr><th>29</th><td>1.32</td></tr><tr><th>30</th><td>1.07</td></tr><tr><th>&vellip;</th><td>&vellip;</td></tr></tbody></table>"
      ],
      "text/latex": [
       "\\begin{tabular}{r|c}\n",
       "\t& AveragePrice\\\\\n",
       "\t\\hline\n",
       "\t& Float64\\\\\n",
       "\t\\hline\n",
       "\t1 & 1.33 \\\\\n",
       "\t2 & 1.35 \\\\\n",
       "\t3 & 0.93 \\\\\n",
       "\t4 & 1.08 \\\\\n",
       "\t5 & 1.28 \\\\\n",
       "\t6 & 1.26 \\\\\n",
       "\t7 & 0.99 \\\\\n",
       "\t8 & 0.98 \\\\\n",
       "\t9 & 1.02 \\\\\n",
       "\t10 & 1.07 \\\\\n",
       "\t11 & 1.12 \\\\\n",
       "\t12 & 1.28 \\\\\n",
       "\t13 & 1.31 \\\\\n",
       "\t14 & 0.99 \\\\\n",
       "\t15 & 1.33 \\\\\n",
       "\t16 & 1.28 \\\\\n",
       "\t17 & 1.11 \\\\\n",
       "\t18 & 1.07 \\\\\n",
       "\t19 & 1.34 \\\\\n",
       "\t20 & 1.33 \\\\\n",
       "\t21 & 1.12 \\\\\n",
       "\t22 & 1.45 \\\\\n",
       "\t23 & 1.11 \\\\\n",
       "\t24 & 1.26 \\\\\n",
       "\t25 & 1.05 \\\\\n",
       "\t26 & 1.35 \\\\\n",
       "\t27 & 1.37 \\\\\n",
       "\t28 & 1.27 \\\\\n",
       "\t29 & 1.32 \\\\\n",
       "\t30 & 1.07 \\\\\n",
       "\t$\\dots$ & $\\dots$ \\\\\n",
       "\\end{tabular}\n"
      ],
      "text/plain": [
       "\u001b[1m18249×1 DataFrame\u001b[0m\n",
       "\u001b[1m   Row \u001b[0m│\u001b[1m AveragePrice \u001b[0m\n",
       "\u001b[1m       \u001b[0m│\u001b[90m Float64      \u001b[0m\n",
       "───────┼──────────────\n",
       "     1 │         1.33\n",
       "     2 │         1.35\n",
       "     3 │         0.93\n",
       "     4 │         1.08\n",
       "     5 │         1.28\n",
       "     6 │         1.26\n",
       "     7 │         0.99\n",
       "     8 │         0.98\n",
       "     9 │         1.02\n",
       "    10 │         1.07\n",
       "    11 │         1.12\n",
       "   ⋮   │      ⋮\n",
       " 18240 │         1.56\n",
       " 18241 │         1.54\n",
       " 18242 │         1.57\n",
       " 18243 │         1.56\n",
       " 18244 │         1.57\n",
       " 18245 │         1.63\n",
       " 18246 │         1.71\n",
       " 18247 │         1.87\n",
       " 18248 │         1.93\n",
       " 18249 │         1.62\n",
       "\u001b[36m    18228 rows omitted\u001b[0m"
      ]
     },
     "execution_count": 23,
     "metadata": {},
     "output_type": "execute_result"
    }
   ],
   "source": [
    "abacatesDataframe[:,[:AveragePrice]]"
   ]
  },
  {
   "cell_type": "raw",
   "id": "474c95c6-62cf-40af-a2cb-a2c1bf094dae",
   "metadata": {},
   "source": [
    "Utilizando indexacão para retornar linhas específicas da coluna."
   ]
  },
  {
   "cell_type": "code",
   "execution_count": 22,
   "id": "f942cc83-a64f-4a5c-b581-9a7f88d621f6",
   "metadata": {},
   "outputs": [
    {
     "data": {
      "text/plain": [
       "11×1 Matrix{Float64}:\n",
       " 1.07\n",
       " 1.12\n",
       " 1.28\n",
       " 1.31\n",
       " 0.99\n",
       " 1.33\n",
       " 1.28\n",
       " 1.11\n",
       " 1.07\n",
       " 1.34\n",
       " 1.33"
      ]
     },
     "execution_count": 22,
     "metadata": {},
     "output_type": "execute_result"
    }
   ],
   "source": [
    "abacatesDataframe.AveragePrice[10: 20, :]"
   ]
  },
  {
   "cell_type": "code",
   "execution_count": 8,
   "id": "6dd52c95-fea6-4910-bdb0-7e2e2a1bd18e",
   "metadata": {},
   "outputs": [
    {
     "data": {
      "text/html": [
       "<table class=\"data-frame\"><thead><tr><th></th><th>AveragePrice</th></tr><tr><th></th><th>Float64</th></tr></thead><tbody><p>11 rows × 1 columns</p><tr><th>1</th><td>1.07</td></tr><tr><th>2</th><td>1.12</td></tr><tr><th>3</th><td>1.28</td></tr><tr><th>4</th><td>1.31</td></tr><tr><th>5</th><td>0.99</td></tr><tr><th>6</th><td>1.33</td></tr><tr><th>7</th><td>1.28</td></tr><tr><th>8</th><td>1.11</td></tr><tr><th>9</th><td>1.07</td></tr><tr><th>10</th><td>1.34</td></tr><tr><th>11</th><td>1.33</td></tr></tbody></table>"
      ],
      "text/latex": [
       "\\begin{tabular}{r|c}\n",
       "\t& AveragePrice\\\\\n",
       "\t\\hline\n",
       "\t& Float64\\\\\n",
       "\t\\hline\n",
       "\t1 & 1.07 \\\\\n",
       "\t2 & 1.12 \\\\\n",
       "\t3 & 1.28 \\\\\n",
       "\t4 & 1.31 \\\\\n",
       "\t5 & 0.99 \\\\\n",
       "\t6 & 1.33 \\\\\n",
       "\t7 & 1.28 \\\\\n",
       "\t8 & 1.11 \\\\\n",
       "\t9 & 1.07 \\\\\n",
       "\t10 & 1.34 \\\\\n",
       "\t11 & 1.33 \\\\\n",
       "\\end{tabular}\n"
      ],
      "text/plain": [
       "\u001b[1m11×1 DataFrame\u001b[0m\n",
       "\u001b[1m Row \u001b[0m│\u001b[1m AveragePrice \u001b[0m\n",
       "\u001b[1m     \u001b[0m│\u001b[90m Float64      \u001b[0m\n",
       "─────┼──────────────\n",
       "   1 │         1.07\n",
       "   2 │         1.12\n",
       "   3 │         1.28\n",
       "   4 │         1.31\n",
       "   5 │         0.99\n",
       "   6 │         1.33\n",
       "   7 │         1.28\n",
       "   8 │         1.11\n",
       "   9 │         1.07\n",
       "  10 │         1.34\n",
       "  11 │         1.33"
      ]
     },
     "execution_count": 8,
     "metadata": {},
     "output_type": "execute_result"
    }
   ],
   "source": [
    "abacatesDataframe[10:20,[:AveragePrice]]"
   ]
  },
  {
   "cell_type": "raw",
   "id": "fe1e1b53-98dc-4049-bc07-e32cf702c426",
   "metadata": {},
   "source": [
    "Brincando com selects\n",
    "\n",
    "Quase um sql 😆"
   ]
  },
  {
   "cell_type": "raw",
   "id": "bd12a52a-6355-4439-91a5-8e73367a6800",
   "metadata": {},
   "source": [
    "Selecionando todas as colunas exceto a coluna Date:"
   ]
  },
  {
   "cell_type": "code",
   "execution_count": 25,
   "id": "262bc9de-f93e-449d-8454-607566f00ee8",
   "metadata": {},
   "outputs": [
    {
     "data": {
      "text/html": [
       "<table class=\"data-frame\"><thead><tr><th></th><th>Column1</th><th>AveragePrice</th><th>Total Volume</th><th>4046</th><th>4225</th><th>4770</th><th>Total Bags</th><th>Small Bags</th></tr><tr><th></th><th>Int64</th><th>Float64</th><th>Float64</th><th>Float64</th><th>Float64</th><th>Float64</th><th>Float64</th><th>Float64</th></tr></thead><tbody><p>18,249 rows × 13 columns (omitted printing of 5 columns)</p><tr><th>1</th><td>0</td><td>1.33</td><td>64236.6</td><td>1036.74</td><td>54454.8</td><td>48.16</td><td>8696.87</td><td>8603.62</td></tr><tr><th>2</th><td>1</td><td>1.35</td><td>54877.0</td><td>674.28</td><td>44638.8</td><td>58.33</td><td>9505.56</td><td>9408.07</td></tr><tr><th>3</th><td>2</td><td>0.93</td><td>1.1822e5</td><td>794.7</td><td>1.0915e5</td><td>130.5</td><td>8145.35</td><td>8042.21</td></tr><tr><th>4</th><td>3</td><td>1.08</td><td>78992.1</td><td>1132.0</td><td>71976.4</td><td>72.58</td><td>5811.16</td><td>5677.4</td></tr><tr><th>5</th><td>4</td><td>1.28</td><td>51039.6</td><td>941.48</td><td>43838.4</td><td>75.78</td><td>6183.95</td><td>5986.26</td></tr><tr><th>6</th><td>5</td><td>1.26</td><td>55979.8</td><td>1184.27</td><td>48068.0</td><td>43.61</td><td>6683.91</td><td>6556.47</td></tr><tr><th>7</th><td>6</td><td>0.99</td><td>83453.8</td><td>1368.92</td><td>73672.7</td><td>93.26</td><td>8318.86</td><td>8196.81</td></tr><tr><th>8</th><td>7</td><td>0.98</td><td>1.09428e5</td><td>703.75</td><td>1.01815e5</td><td>80.0</td><td>6829.22</td><td>6266.85</td></tr><tr><th>9</th><td>8</td><td>1.02</td><td>99811.4</td><td>1022.15</td><td>87315.6</td><td>85.34</td><td>11388.4</td><td>11104.5</td></tr><tr><th>10</th><td>9</td><td>1.07</td><td>74338.8</td><td>842.4</td><td>64757.4</td><td>113.0</td><td>8625.92</td><td>8061.47</td></tr><tr><th>11</th><td>10</td><td>1.12</td><td>84843.4</td><td>924.86</td><td>75595.9</td><td>117.07</td><td>8205.66</td><td>7877.86</td></tr><tr><th>12</th><td>11</td><td>1.28</td><td>64489.2</td><td>1582.03</td><td>52677.9</td><td>105.32</td><td>10123.9</td><td>9866.27</td></tr><tr><th>13</th><td>12</td><td>1.31</td><td>61007.1</td><td>2268.32</td><td>49880.7</td><td>101.36</td><td>8756.75</td><td>8379.98</td></tr><tr><th>14</th><td>13</td><td>0.99</td><td>1.06803e5</td><td>1204.88</td><td>99409.2</td><td>154.84</td><td>6034.46</td><td>5888.87</td></tr><tr><th>15</th><td>14</td><td>1.33</td><td>69759.0</td><td>1028.03</td><td>59313.1</td><td>150.5</td><td>9267.36</td><td>8489.1</td></tr><tr><th>16</th><td>15</td><td>1.28</td><td>76111.3</td><td>985.73</td><td>65696.9</td><td>142.0</td><td>9286.68</td><td>8665.19</td></tr><tr><th>17</th><td>16</td><td>1.11</td><td>99173.0</td><td>879.45</td><td>90062.6</td><td>240.79</td><td>7990.1</td><td>7762.87</td></tr><tr><th>18</th><td>17</td><td>1.07</td><td>1.05694e5</td><td>689.01</td><td>94362.7</td><td>335.43</td><td>10306.7</td><td>10218.9</td></tr><tr><th>19</th><td>18</td><td>1.34</td><td>79992.1</td><td>733.16</td><td>67933.8</td><td>444.78</td><td>10880.4</td><td>10745.8</td></tr><tr><th>20</th><td>19</td><td>1.33</td><td>80043.8</td><td>539.65</td><td>68666.0</td><td>394.9</td><td>10443.2</td><td>10297.7</td></tr><tr><th>21</th><td>20</td><td>1.12</td><td>1.11141e5</td><td>584.63</td><td>1.00961e5</td><td>368.95</td><td>9225.89</td><td>9116.34</td></tr><tr><th>22</th><td>21</td><td>1.45</td><td>75133.1</td><td>509.94</td><td>62035.1</td><td>741.08</td><td>11847.0</td><td>11768.5</td></tr><tr><th>23</th><td>22</td><td>1.11</td><td>1.06757e5</td><td>648.75</td><td>91949.1</td><td>966.61</td><td>13192.7</td><td>13061.5</td></tr><tr><th>24</th><td>23</td><td>1.26</td><td>96617.0</td><td>1042.1</td><td>82049.4</td><td>2238.02</td><td>11287.5</td><td>11103.5</td></tr><tr><th>25</th><td>24</td><td>1.05</td><td>1.24055e5</td><td>672.25</td><td>94693.5</td><td>4257.64</td><td>24431.9</td><td>24290.1</td></tr><tr><th>26</th><td>25</td><td>1.35</td><td>1.09252e5</td><td>869.45</td><td>72600.6</td><td>5883.16</td><td>29899.0</td><td>29663.2</td></tr><tr><th>27</th><td>26</td><td>1.37</td><td>89534.8</td><td>664.23</td><td>57545.8</td><td>4662.71</td><td>26662.1</td><td>26311.8</td></tr><tr><th>28</th><td>27</td><td>1.27</td><td>1.04849e5</td><td>804.01</td><td>76688.6</td><td>5481.18</td><td>21875.7</td><td>21662.0</td></tr><tr><th>29</th><td>28</td><td>1.32</td><td>89631.3</td><td>850.58</td><td>55400.9</td><td>4377.19</td><td>29002.6</td><td>28343.1</td></tr><tr><th>30</th><td>29</td><td>1.07</td><td>1.22743e5</td><td>656.71</td><td>99220.8</td><td>90.32</td><td>22775.2</td><td>22315.0</td></tr><tr><th>&vellip;</th><td>&vellip;</td><td>&vellip;</td><td>&vellip;</td><td>&vellip;</td><td>&vellip;</td><td>&vellip;</td><td>&vellip;</td><td>&vellip;</td></tr></tbody></table>"
      ],
      "text/latex": [
       "\\begin{tabular}{r|ccccccccc}\n",
       "\t& Column1 & AveragePrice & Total Volume & 4046 & 4225 & 4770 & Total Bags & Small Bags & \\\\\n",
       "\t\\hline\n",
       "\t& Int64 & Float64 & Float64 & Float64 & Float64 & Float64 & Float64 & Float64 & \\\\\n",
       "\t\\hline\n",
       "\t1 & 0 & 1.33 & 64236.6 & 1036.74 & 54454.8 & 48.16 & 8696.87 & 8603.62 & $\\dots$ \\\\\n",
       "\t2 & 1 & 1.35 & 54877.0 & 674.28 & 44638.8 & 58.33 & 9505.56 & 9408.07 & $\\dots$ \\\\\n",
       "\t3 & 2 & 0.93 & 1.1822e5 & 794.7 & 1.0915e5 & 130.5 & 8145.35 & 8042.21 & $\\dots$ \\\\\n",
       "\t4 & 3 & 1.08 & 78992.1 & 1132.0 & 71976.4 & 72.58 & 5811.16 & 5677.4 & $\\dots$ \\\\\n",
       "\t5 & 4 & 1.28 & 51039.6 & 941.48 & 43838.4 & 75.78 & 6183.95 & 5986.26 & $\\dots$ \\\\\n",
       "\t6 & 5 & 1.26 & 55979.8 & 1184.27 & 48068.0 & 43.61 & 6683.91 & 6556.47 & $\\dots$ \\\\\n",
       "\t7 & 6 & 0.99 & 83453.8 & 1368.92 & 73672.7 & 93.26 & 8318.86 & 8196.81 & $\\dots$ \\\\\n",
       "\t8 & 7 & 0.98 & 1.09428e5 & 703.75 & 1.01815e5 & 80.0 & 6829.22 & 6266.85 & $\\dots$ \\\\\n",
       "\t9 & 8 & 1.02 & 99811.4 & 1022.15 & 87315.6 & 85.34 & 11388.4 & 11104.5 & $\\dots$ \\\\\n",
       "\t10 & 9 & 1.07 & 74338.8 & 842.4 & 64757.4 & 113.0 & 8625.92 & 8061.47 & $\\dots$ \\\\\n",
       "\t11 & 10 & 1.12 & 84843.4 & 924.86 & 75595.9 & 117.07 & 8205.66 & 7877.86 & $\\dots$ \\\\\n",
       "\t12 & 11 & 1.28 & 64489.2 & 1582.03 & 52677.9 & 105.32 & 10123.9 & 9866.27 & $\\dots$ \\\\\n",
       "\t13 & 12 & 1.31 & 61007.1 & 2268.32 & 49880.7 & 101.36 & 8756.75 & 8379.98 & $\\dots$ \\\\\n",
       "\t14 & 13 & 0.99 & 1.06803e5 & 1204.88 & 99409.2 & 154.84 & 6034.46 & 5888.87 & $\\dots$ \\\\\n",
       "\t15 & 14 & 1.33 & 69759.0 & 1028.03 & 59313.1 & 150.5 & 9267.36 & 8489.1 & $\\dots$ \\\\\n",
       "\t16 & 15 & 1.28 & 76111.3 & 985.73 & 65696.9 & 142.0 & 9286.68 & 8665.19 & $\\dots$ \\\\\n",
       "\t17 & 16 & 1.11 & 99173.0 & 879.45 & 90062.6 & 240.79 & 7990.1 & 7762.87 & $\\dots$ \\\\\n",
       "\t18 & 17 & 1.07 & 1.05694e5 & 689.01 & 94362.7 & 335.43 & 10306.7 & 10218.9 & $\\dots$ \\\\\n",
       "\t19 & 18 & 1.34 & 79992.1 & 733.16 & 67933.8 & 444.78 & 10880.4 & 10745.8 & $\\dots$ \\\\\n",
       "\t20 & 19 & 1.33 & 80043.8 & 539.65 & 68666.0 & 394.9 & 10443.2 & 10297.7 & $\\dots$ \\\\\n",
       "\t21 & 20 & 1.12 & 1.11141e5 & 584.63 & 1.00961e5 & 368.95 & 9225.89 & 9116.34 & $\\dots$ \\\\\n",
       "\t22 & 21 & 1.45 & 75133.1 & 509.94 & 62035.1 & 741.08 & 11847.0 & 11768.5 & $\\dots$ \\\\\n",
       "\t23 & 22 & 1.11 & 1.06757e5 & 648.75 & 91949.1 & 966.61 & 13192.7 & 13061.5 & $\\dots$ \\\\\n",
       "\t24 & 23 & 1.26 & 96617.0 & 1042.1 & 82049.4 & 2238.02 & 11287.5 & 11103.5 & $\\dots$ \\\\\n",
       "\t25 & 24 & 1.05 & 1.24055e5 & 672.25 & 94693.5 & 4257.64 & 24431.9 & 24290.1 & $\\dots$ \\\\\n",
       "\t26 & 25 & 1.35 & 1.09252e5 & 869.45 & 72600.6 & 5883.16 & 29899.0 & 29663.2 & $\\dots$ \\\\\n",
       "\t27 & 26 & 1.37 & 89534.8 & 664.23 & 57545.8 & 4662.71 & 26662.1 & 26311.8 & $\\dots$ \\\\\n",
       "\t28 & 27 & 1.27 & 1.04849e5 & 804.01 & 76688.6 & 5481.18 & 21875.7 & 21662.0 & $\\dots$ \\\\\n",
       "\t29 & 28 & 1.32 & 89631.3 & 850.58 & 55400.9 & 4377.19 & 29002.6 & 28343.1 & $\\dots$ \\\\\n",
       "\t30 & 29 & 1.07 & 1.22743e5 & 656.71 & 99220.8 & 90.32 & 22775.2 & 22315.0 & $\\dots$ \\\\\n",
       "\t$\\dots$ & $\\dots$ & $\\dots$ & $\\dots$ & $\\dots$ & $\\dots$ & $\\dots$ & $\\dots$ & $\\dots$ &  \\\\\n",
       "\\end{tabular}\n"
      ],
      "text/plain": [
       "\u001b[1m18249×13 DataFrame\u001b[0m\n",
       "\u001b[1m   Row \u001b[0m│\u001b[1m Column1 \u001b[0m\u001b[1m AveragePrice \u001b[0m\u001b[1m Total Volume  \u001b[0m\u001b[1m 4046     \u001b[0m\u001b[1m 4225          \u001b[0m\u001b[1m 4770  \u001b[0m ⋯\n",
       "\u001b[1m       \u001b[0m│\u001b[90m Int64   \u001b[0m\u001b[90m Float64      \u001b[0m\u001b[90m Float64       \u001b[0m\u001b[90m Float64  \u001b[0m\u001b[90m Float64       \u001b[0m\u001b[90m Float6\u001b[0m ⋯\n",
       "───────┼────────────────────────────────────────────────────────────────────────\n",
       "     1 │       0          1.33  64236.6         1036.74  54454.8          48.1 ⋯\n",
       "     2 │       1          1.35  54877.0          674.28  44638.8          58.3\n",
       "     3 │       2          0.93      1.1822e5     794.7       1.0915e5    130.5\n",
       "     4 │       3          1.08  78992.1         1132.0   71976.4          72.5\n",
       "     5 │       4          1.28  51039.6          941.48  43838.4          75.7 ⋯\n",
       "     6 │       5          1.26  55979.8         1184.27  48068.0          43.6\n",
       "     7 │       6          0.99  83453.8         1368.92  73672.7          93.2\n",
       "     8 │       7          0.98      1.09428e5    703.75      1.01815e5    80.0\n",
       "     9 │       8          1.02  99811.4         1022.15  87315.6          85.3 ⋯\n",
       "    10 │       9          1.07  74338.8          842.4   64757.4         113.0\n",
       "    11 │      10          1.12  84843.4          924.86  75595.9         117.0\n",
       "   ⋮   │    ⋮          ⋮              ⋮           ⋮            ⋮           ⋮   ⋱\n",
       " 18240 │       2          1.56  22128.4         2162.67   3194.25          8.9\n",
       " 18241 │       3          1.54  17393.3         1832.24   1905.57          0.0 ⋯\n",
       " 18242 │       4          1.57  18421.2         1974.26   2482.65          0.0\n",
       " 18243 │       5          1.56  17597.1         1892.05   1928.36          0.0\n",
       " 18244 │       6          1.57  15986.2         1924.28   1368.32          0.0\n",
       " 18245 │       7          1.63  17074.8         2046.96   1529.2           0.0 ⋯\n",
       " 18246 │       8          1.71  13888.0         1191.7    3431.5           0.0\n",
       " 18247 │       9          1.87  13766.8         1191.92   2452.79        727.9\n",
       " 18248 │      10          1.93  16205.2         1527.63   2981.04        727.0\n",
       " 18249 │      11          1.62  17489.6         2894.77   2356.13        224.5 ⋯\n",
       "\u001b[36m                                                8 columns and 18228 rows omitted\u001b[0m"
      ]
     },
     "execution_count": 25,
     "metadata": {},
     "output_type": "execute_result"
    }
   ],
   "source": [
    "CsvSemData = select(abacatesDataframe, Not(:Date)) "
   ]
  },
  {
   "cell_type": "raw",
   "id": "244242ec-0e3a-45c4-98e2-c4d1583a1880",
   "metadata": {},
   "source": [
    "Buscando apenas as colunas que possuem \"X\" no nome."
   ]
  },
  {
   "cell_type": "code",
   "execution_count": 26,
   "id": "737e877b-ea12-41ec-8aab-93be45fbde31",
   "metadata": {},
   "outputs": [
    {
     "data": {
      "text/html": [
       "<table class=\"data-frame\"><thead><tr><th></th><th>XLarge Bags</th></tr><tr><th></th><th>Float64</th></tr></thead><tbody><p>4 rows × 1 columns</p><tr><th>1</th><td>0.0</td></tr><tr><th>2</th><td>0.0</td></tr><tr><th>3</th><td>0.0</td></tr><tr><th>4</th><td>0.0</td></tr></tbody></table>"
      ],
      "text/latex": [
       "\\begin{tabular}{r|c}\n",
       "\t& XLarge Bags\\\\\n",
       "\t\\hline\n",
       "\t& Float64\\\\\n",
       "\t\\hline\n",
       "\t1 & 0.0 \\\\\n",
       "\t2 & 0.0 \\\\\n",
       "\t3 & 0.0 \\\\\n",
       "\t4 & 0.0 \\\\\n",
       "\\end{tabular}\n"
      ],
      "text/plain": [
       "\u001b[1m4×1 DataFrame\u001b[0m\n",
       "\u001b[1m Row \u001b[0m│\u001b[1m XLarge Bags \u001b[0m\n",
       "\u001b[1m     \u001b[0m│\u001b[90m Float64     \u001b[0m\n",
       "─────┼─────────────\n",
       "   1 │         0.0\n",
       "   2 │         0.0\n",
       "   3 │         0.0\n",
       "   4 │         0.0"
      ]
     },
     "execution_count": 26,
     "metadata": {},
     "output_type": "execute_result"
    }
   ],
   "source": [
    "select(abacatesDataframe, r\"X\")[1:4,:]"
   ]
  },
  {
   "cell_type": "raw",
   "id": "114d6947-adfd-4613-8df0-01dbed05bbef",
   "metadata": {},
   "source": [
    "Renomeando uma coluna:"
   ]
  },
  {
   "cell_type": "code",
   "execution_count": 27,
   "id": "8d87cce7-042f-494f-8d29-460e4316da3a",
   "metadata": {},
   "outputs": [
    {
     "data": {
      "text/html": [
       "<table class=\"data-frame\"><thead><tr><th></th><th>Valdir</th></tr><tr><th></th><th>Date…</th></tr></thead><tbody><p>4 rows × 1 columns</p><tr><th>1</th><td>2015-12-27</td></tr><tr><th>2</th><td>2015-12-20</td></tr><tr><th>3</th><td>2015-12-13</td></tr><tr><th>4</th><td>2015-12-06</td></tr></tbody></table>"
      ],
      "text/latex": [
       "\\begin{tabular}{r|c}\n",
       "\t& Valdir\\\\\n",
       "\t\\hline\n",
       "\t& Date…\\\\\n",
       "\t\\hline\n",
       "\t1 & 2015-12-27 \\\\\n",
       "\t2 & 2015-12-20 \\\\\n",
       "\t3 & 2015-12-13 \\\\\n",
       "\t4 & 2015-12-06 \\\\\n",
       "\\end{tabular}\n"
      ],
      "text/plain": [
       "\u001b[1m4×1 DataFrame\u001b[0m\n",
       "\u001b[1m Row \u001b[0m│\u001b[1m Valdir     \u001b[0m\n",
       "\u001b[1m     \u001b[0m│\u001b[90m Date…      \u001b[0m\n",
       "─────┼────────────\n",
       "   1 │ 2015-12-27\n",
       "   2 │ 2015-12-20\n",
       "   3 │ 2015-12-13\n",
       "   4 │ 2015-12-06"
      ]
     },
     "execution_count": 27,
     "metadata": {},
     "output_type": "execute_result"
    }
   ],
   "source": [
    "select(abacatesDataframe, :Date => :Valdir)[1:4,:]"
   ]
  },
  {
   "cell_type": "raw",
   "id": "3ac6d72c-92f9-4d9e-8d8f-729cb46e28d0",
   "metadata": {},
   "source": [
    "Além de editar as colunas, podemos editar os valores dentro de cada uma delas."
   ]
  },
  {
   "cell_type": "code",
   "execution_count": 28,
   "id": "05ab9efc-9872-4184-9b02-b4125d64f87e",
   "metadata": {},
   "outputs": [
    {
     "data": {
      "text/html": [
       "<table class=\"data-frame\"><thead><tr><th></th><th>AveragePrice</th><th>AveragePrice_sqrt</th></tr><tr><th></th><th>Float64</th><th>Float64</th></tr></thead><tbody><p>5 rows × 2 columns</p><tr><th>1</th><td>1.33</td><td>1.15326</td></tr><tr><th>2</th><td>1.35</td><td>1.1619</td></tr><tr><th>3</th><td>0.93</td><td>0.964365</td></tr><tr><th>4</th><td>1.08</td><td>1.03923</td></tr><tr><th>5</th><td>1.28</td><td>1.13137</td></tr></tbody></table>"
      ],
      "text/latex": [
       "\\begin{tabular}{r|cc}\n",
       "\t& AveragePrice & AveragePrice\\_sqrt\\\\\n",
       "\t\\hline\n",
       "\t& Float64 & Float64\\\\\n",
       "\t\\hline\n",
       "\t1 & 1.33 & 1.15326 \\\\\n",
       "\t2 & 1.35 & 1.1619 \\\\\n",
       "\t3 & 0.93 & 0.964365 \\\\\n",
       "\t4 & 1.08 & 1.03923 \\\\\n",
       "\t5 & 1.28 & 1.13137 \\\\\n",
       "\\end{tabular}\n"
      ],
      "text/plain": [
       "\u001b[1m5×2 DataFrame\u001b[0m\n",
       "\u001b[1m Row \u001b[0m│\u001b[1m AveragePrice \u001b[0m\u001b[1m AveragePrice_sqrt \u001b[0m\n",
       "\u001b[1m     \u001b[0m│\u001b[90m Float64      \u001b[0m\u001b[90m Float64           \u001b[0m\n",
       "─────┼─────────────────────────────────\n",
       "   1 │         1.33           1.15326\n",
       "   2 │         1.35           1.1619\n",
       "   3 │         0.93           0.964365\n",
       "   4 │         1.08           1.03923\n",
       "   5 │         1.28           1.13137"
      ]
     },
     "execution_count": 28,
     "metadata": {},
     "output_type": "execute_result"
    }
   ],
   "source": [
    "select(abacatesDataframe, :AveragePrice)[1:5,:] #outra maneira para se acessar uma coluna\n",
    "select(abacatesDataframe, :AveragePrice, :AveragePrice => ByRow(sqrt))[1:5,:]"
   ]
  },
  {
   "cell_type": "raw",
   "id": "2d9892db-2ca9-40a8-9272-d292ba9f257c",
   "metadata": {},
   "source": [
    "Joins, Join e mais Joins "
   ]
  },
  {
   "cell_type": "code",
   "execution_count": 2,
   "id": "da14d1b5-777a-41b6-a024-972c23a6e523",
   "metadata": {},
   "outputs": [
    {
     "data": {
      "text/html": [
       "<table class=\"data-frame\"><thead><tr><th></th><th>ID</th><th>Name</th></tr><tr><th></th><th>Int64</th><th>String</th></tr></thead><tbody><p>2 rows × 2 columns</p><tr><th>1</th><td>20</td><td>John Doe</td></tr><tr><th>2</th><td>40</td><td>Jane Doe</td></tr></tbody></table>"
      ],
      "text/latex": [
       "\\begin{tabular}{r|cc}\n",
       "\t& ID & Name\\\\\n",
       "\t\\hline\n",
       "\t& Int64 & String\\\\\n",
       "\t\\hline\n",
       "\t1 & 20 & John Doe \\\\\n",
       "\t2 & 40 & Jane Doe \\\\\n",
       "\\end{tabular}\n"
      ],
      "text/plain": [
       "\u001b[1m2×2 DataFrame\u001b[0m\n",
       "\u001b[1m Row \u001b[0m│\u001b[1m ID    \u001b[0m\u001b[1m Name     \u001b[0m\n",
       "\u001b[1m     \u001b[0m│\u001b[90m Int64 \u001b[0m\u001b[90m String   \u001b[0m\n",
       "─────┼─────────────────\n",
       "   1 │    20  John Doe\n",
       "   2 │    40  Jane Doe"
      ]
     },
     "execution_count": 2,
     "metadata": {},
     "output_type": "execute_result"
    }
   ],
   "source": [
    "people = DataFrame(ID = [20, 40], Name = [\"John Doe\", \"Jane Doe\"])"
   ]
  },
  {
   "cell_type": "code",
   "execution_count": 4,
   "id": "28c2bfa3-f2e3-4bbb-855f-0d095d11591e",
   "metadata": {},
   "outputs": [
    {
     "data": {
      "text/html": [
       "<table class=\"data-frame\"><thead><tr><th></th><th>ID</th><th>Job</th></tr><tr><th></th><th>Int64</th><th>String</th></tr></thead><tbody><p>2 rows × 2 columns</p><tr><th>1</th><td>20</td><td>Lawyer</td></tr><tr><th>2</th><td>60</td><td>Astronaut</td></tr></tbody></table>"
      ],
      "text/latex": [
       "\\begin{tabular}{r|cc}\n",
       "\t& ID & Job\\\\\n",
       "\t\\hline\n",
       "\t& Int64 & String\\\\\n",
       "\t\\hline\n",
       "\t1 & 20 & Lawyer \\\\\n",
       "\t2 & 60 & Astronaut \\\\\n",
       "\\end{tabular}\n"
      ],
      "text/plain": [
       "\u001b[1m2×2 DataFrame\u001b[0m\n",
       "\u001b[1m Row \u001b[0m│\u001b[1m ID    \u001b[0m\u001b[1m Job       \u001b[0m\n",
       "\u001b[1m     \u001b[0m│\u001b[90m Int64 \u001b[0m\u001b[90m String    \u001b[0m\n",
       "─────┼──────────────────\n",
       "   1 │    20  Lawyer\n",
       "   2 │    60  Astronaut"
      ]
     },
     "execution_count": 4,
     "metadata": {},
     "output_type": "execute_result"
    }
   ],
   "source": [
    "jobs = DataFrame(ID = [20, 60], Job = [\"Lawyer\", \"Astronaut\"])"
   ]
  },
  {
   "cell_type": "raw",
   "id": "19051e69-4194-4e68-8782-bd4aabe9ccd2",
   "metadata": {},
   "source": [
    "Inner Join \n",
    "\n",
    "É composto pela união de duas tabelas, ligadas por suas chaves, no exemplo abaixo e no mais comum dos casos, a ligação das tabelas da-se pelos Id`s"
   ]
  },
  {
   "cell_type": "code",
   "execution_count": 5,
   "id": "6e3b23af-4334-4a6e-8c37-a497d8bc14a5",
   "metadata": {},
   "outputs": [
    {
     "data": {
      "text/html": [
       "<table class=\"data-frame\"><thead><tr><th></th><th>ID</th><th>Name</th><th>Job</th></tr><tr><th></th><th>Int64</th><th>String</th><th>String</th></tr></thead><tbody><p>1 rows × 3 columns</p><tr><th>1</th><td>20</td><td>John Doe</td><td>Lawyer</td></tr></tbody></table>"
      ],
      "text/latex": [
       "\\begin{tabular}{r|ccc}\n",
       "\t& ID & Name & Job\\\\\n",
       "\t\\hline\n",
       "\t& Int64 & String & String\\\\\n",
       "\t\\hline\n",
       "\t1 & 20 & John Doe & Lawyer \\\\\n",
       "\\end{tabular}\n"
      ],
      "text/plain": [
       "\u001b[1m1×3 DataFrame\u001b[0m\n",
       "\u001b[1m Row \u001b[0m│\u001b[1m ID    \u001b[0m\u001b[1m Name     \u001b[0m\u001b[1m Job    \u001b[0m\n",
       "\u001b[1m     \u001b[0m│\u001b[90m Int64 \u001b[0m\u001b[90m String   \u001b[0m\u001b[90m String \u001b[0m\n",
       "─────┼─────────────────────────\n",
       "   1 │    20  John Doe  Lawyer"
      ]
     },
     "execution_count": 5,
     "metadata": {},
     "output_type": "execute_result"
    }
   ],
   "source": [
    "innerjoin(people, jobs, on=:ID)"
   ]
  },
  {
   "cell_type": "raw",
   "id": "044cef3d-2f01-4888-80d3-cb751a5ba18b",
   "metadata": {},
   "source": [
    "Left Join \n",
    "\n",
    "Retorna as valores da tabela à esquerda, independentemente se existam registros na tabela à direita"
   ]
  },
  {
   "cell_type": "code",
   "execution_count": 6,
   "id": "b1c47e60-be9c-4802-8fff-96d5eb141709",
   "metadata": {},
   "outputs": [
    {
     "data": {
      "text/html": [
       "<table class=\"data-frame\"><thead><tr><th></th><th>ID</th><th>Name</th><th>Job</th></tr><tr><th></th><th>Int64</th><th>String</th><th>String?</th></tr></thead><tbody><p>2 rows × 3 columns</p><tr><th>1</th><td>20</td><td>John Doe</td><td>Lawyer</td></tr><tr><th>2</th><td>40</td><td>Jane Doe</td><td><em>missing</em></td></tr></tbody></table>"
      ],
      "text/latex": [
       "\\begin{tabular}{r|ccc}\n",
       "\t& ID & Name & Job\\\\\n",
       "\t\\hline\n",
       "\t& Int64 & String & String?\\\\\n",
       "\t\\hline\n",
       "\t1 & 20 & John Doe & Lawyer \\\\\n",
       "\t2 & 40 & Jane Doe & \\emph{missing} \\\\\n",
       "\\end{tabular}\n"
      ],
      "text/plain": [
       "\u001b[1m2×3 DataFrame\u001b[0m\n",
       "\u001b[1m Row \u001b[0m│\u001b[1m ID    \u001b[0m\u001b[1m Name     \u001b[0m\u001b[1m Job     \u001b[0m\n",
       "\u001b[1m     \u001b[0m│\u001b[90m Int64 \u001b[0m\u001b[90m String   \u001b[0m\u001b[90m String? \u001b[0m\n",
       "─────┼──────────────────────────\n",
       "   1 │    20  John Doe  Lawyer\n",
       "   2 │    40  Jane Doe \u001b[90m missing \u001b[0m"
      ]
     },
     "execution_count": 6,
     "metadata": {},
     "output_type": "execute_result"
    }
   ],
   "source": [
    "leftjoin(people, jobs, on = :ID)"
   ]
  },
  {
   "cell_type": "code",
   "execution_count": null,
   "id": "578188cb-eadc-4f9d-80d9-f57f87f12e21",
   "metadata": {},
   "outputs": [],
   "source": [
    "rigth join \n",
    "\n",
    "Retorna os valores da tabela à direita, independentemente se existam registros na tabela à esquerda "
   ]
  },
  {
   "cell_type": "code",
   "execution_count": 35,
   "id": "bc44dee0-384c-4e12-ba83-07887993ebdb",
   "metadata": {},
   "outputs": [
    {
     "data": {
      "text/html": [
       "<table class=\"data-frame\"><thead><tr><th></th><th>ID</th><th>Name</th><th>Job</th></tr><tr><th></th><th>Int64</th><th>String?</th><th>String</th></tr></thead><tbody><p>2 rows × 3 columns</p><tr><th>1</th><td>20</td><td>John Doe</td><td>Lawyer</td></tr><tr><th>2</th><td>60</td><td><em>missing</em></td><td>Astronaut</td></tr></tbody></table>"
      ],
      "text/latex": [
       "\\begin{tabular}{r|ccc}\n",
       "\t& ID & Name & Job\\\\\n",
       "\t\\hline\n",
       "\t& Int64 & String? & String\\\\\n",
       "\t\\hline\n",
       "\t1 & 20 & John Doe & Lawyer \\\\\n",
       "\t2 & 60 & \\emph{missing} & Astronaut \\\\\n",
       "\\end{tabular}\n"
      ],
      "text/plain": [
       "\u001b[1m2×3 DataFrame\u001b[0m\n",
       "\u001b[1m Row \u001b[0m│\u001b[1m ID    \u001b[0m\u001b[1m Name     \u001b[0m\u001b[1m Job       \u001b[0m\n",
       "\u001b[1m     \u001b[0m│\u001b[90m Int64 \u001b[0m\u001b[90m String?  \u001b[0m\u001b[90m String    \u001b[0m\n",
       "─────┼────────────────────────────\n",
       "   1 │    20  John Doe  Lawyer\n",
       "   2 │    60 \u001b[90m missing  \u001b[0m Astronaut"
      ]
     },
     "execution_count": 35,
     "metadata": {},
     "output_type": "execute_result"
    }
   ],
   "source": [
    "rightjoin(people, jobs, on = :ID)"
   ]
  },
  {
   "cell_type": "raw",
   "id": "f6d5c9c7-5d37-4df8-a181-af3ff3b16601",
   "metadata": {},
   "source": [
    "outer Join\n",
    "\n",
    "retorna os valores de cada chave independente se exista nas duas tabelas, é tipo um innerjoin com preguiça de retornar somente os registros que existem nas duas tabelas."
   ]
  },
  {
   "cell_type": "code",
   "execution_count": 7,
   "id": "4888e03a-e2fb-4384-b5ed-6b22f50c5ac4",
   "metadata": {},
   "outputs": [
    {
     "data": {
      "text/html": [
       "<table class=\"data-frame\"><thead><tr><th></th><th>ID</th><th>Name</th><th>Job</th></tr><tr><th></th><th>Int64</th><th>String?</th><th>String?</th></tr></thead><tbody><p>3 rows × 3 columns</p><tr><th>1</th><td>20</td><td>John Doe</td><td>Lawyer</td></tr><tr><th>2</th><td>40</td><td>Jane Doe</td><td><em>missing</em></td></tr><tr><th>3</th><td>60</td><td><em>missing</em></td><td>Astronaut</td></tr></tbody></table>"
      ],
      "text/latex": [
       "\\begin{tabular}{r|ccc}\n",
       "\t& ID & Name & Job\\\\\n",
       "\t\\hline\n",
       "\t& Int64 & String? & String?\\\\\n",
       "\t\\hline\n",
       "\t1 & 20 & John Doe & Lawyer \\\\\n",
       "\t2 & 40 & Jane Doe & \\emph{missing} \\\\\n",
       "\t3 & 60 & \\emph{missing} & Astronaut \\\\\n",
       "\\end{tabular}\n"
      ],
      "text/plain": [
       "\u001b[1m3×3 DataFrame\u001b[0m\n",
       "\u001b[1m Row \u001b[0m│\u001b[1m ID    \u001b[0m\u001b[1m Name     \u001b[0m\u001b[1m Job       \u001b[0m\n",
       "\u001b[1m     \u001b[0m│\u001b[90m Int64 \u001b[0m\u001b[90m String?  \u001b[0m\u001b[90m String?   \u001b[0m\n",
       "─────┼────────────────────────────\n",
       "   1 │    20  John Doe  Lawyer\n",
       "   2 │    40  Jane Doe \u001b[90m missing   \u001b[0m\n",
       "   3 │    60 \u001b[90m missing  \u001b[0m Astronaut"
      ]
     },
     "execution_count": 7,
     "metadata": {},
     "output_type": "execute_result"
    }
   ],
   "source": [
    "outerjoin(people, jobs, on = :ID)"
   ]
  },
  {
   "cell_type": "raw",
   "id": "936ecff2-df98-44b1-954d-ecda13947f77",
   "metadata": {},
   "source": [
    "Anotações: Quando um valor não existe em uma tabela, ele é tratado como missing."
   ]
  },
  {
   "cell_type": "raw",
   "id": "9baacdb9-aefa-4349-b3e9-816443b6c3d4",
   "metadata": {},
   "source": [
    "Semi Join\n",
    "\n",
    "Semi join faz a junção interna através das chaves (por ID neste caso), e retornan somente as colunas da tabela à esquerda."
   ]
  },
  {
   "cell_type": "code",
   "execution_count": 37,
   "id": "156da6d4-7925-4854-9c3a-9dcecfb4b2ec",
   "metadata": {},
   "outputs": [
    {
     "data": {
      "text/html": [
       "<table class=\"data-frame\"><thead><tr><th></th><th>ID</th><th>Name</th></tr><tr><th></th><th>Int64</th><th>String</th></tr></thead><tbody><p>1 rows × 2 columns</p><tr><th>1</th><td>20</td><td>John Doe</td></tr></tbody></table>"
      ],
      "text/latex": [
       "\\begin{tabular}{r|cc}\n",
       "\t& ID & Name\\\\\n",
       "\t\\hline\n",
       "\t& Int64 & String\\\\\n",
       "\t\\hline\n",
       "\t1 & 20 & John Doe \\\\\n",
       "\\end{tabular}\n"
      ],
      "text/plain": [
       "\u001b[1m1×2 DataFrame\u001b[0m\n",
       "\u001b[1m Row \u001b[0m│\u001b[1m ID    \u001b[0m\u001b[1m Name     \u001b[0m\n",
       "\u001b[1m     \u001b[0m│\u001b[90m Int64 \u001b[0m\u001b[90m String   \u001b[0m\n",
       "─────┼─────────────────\n",
       "   1 │    20  John Doe"
      ]
     },
     "execution_count": 37,
     "metadata": {},
     "output_type": "execute_result"
    }
   ],
   "source": [
    "semijoin(people, jobs, on = :ID)"
   ]
  },
  {
   "cell_type": "raw",
   "id": "95c91afc-a32b-44a1-91cd-14058a39d3c1",
   "metadata": {},
   "source": [
    "Anti Join \n",
    "\n",
    "Assim como o Semi Join, o Anti Join retorna apenas as os resultados da tabela à esquerda, porém apenas aquelas que não possuem chaves equivalentes na tabela da direita."
   ]
  },
  {
   "cell_type": "code",
   "execution_count": 38,
   "id": "f484c53a-cc61-4c43-b290-efa7008b53e2",
   "metadata": {},
   "outputs": [
    {
     "data": {
      "text/html": [
       "<table class=\"data-frame\"><thead><tr><th></th><th>ID</th><th>Name</th></tr><tr><th></th><th>Int64</th><th>String</th></tr></thead><tbody><p>1 rows × 2 columns</p><tr><th>1</th><td>40</td><td>Jane Doe</td></tr></tbody></table>"
      ],
      "text/latex": [
       "\\begin{tabular}{r|cc}\n",
       "\t& ID & Name\\\\\n",
       "\t\\hline\n",
       "\t& Int64 & String\\\\\n",
       "\t\\hline\n",
       "\t1 & 40 & Jane Doe \\\\\n",
       "\\end{tabular}\n"
      ],
      "text/plain": [
       "\u001b[1m1×2 DataFrame\u001b[0m\n",
       "\u001b[1m Row \u001b[0m│\u001b[1m ID    \u001b[0m\u001b[1m Name     \u001b[0m\n",
       "\u001b[1m     \u001b[0m│\u001b[90m Int64 \u001b[0m\u001b[90m String   \u001b[0m\n",
       "─────┼─────────────────\n",
       "   1 │    40  Jane Doe"
      ]
     },
     "execution_count": 38,
     "metadata": {},
     "output_type": "execute_result"
    }
   ],
   "source": [
    "antijoin(people, jobs, on = :ID)"
   ]
  },
  {
   "cell_type": "raw",
   "id": "bd1a49f5-207f-45af-8a15-f8d893003a52",
   "metadata": {},
   "source": [
    "Cross Join\n",
    "\n",
    "Retona a combinação de todas as linhas das tabelas, conhecido também como produto cartesiano. (https://pt.wikipedia.org/wiki/Produto_cartesiano)"
   ]
  },
  {
   "cell_type": "code",
   "execution_count": 39,
   "id": "d35d976d-098a-4e70-9aa3-90453b7fa919",
   "metadata": {},
   "outputs": [
    {
     "data": {
      "text/html": [
       "<table class=\"data-frame\"><thead><tr><th></th><th>ID</th><th>Name</th><th>ID_1</th><th>Job</th></tr><tr><th></th><th>Int64</th><th>String</th><th>Int64</th><th>String</th></tr></thead><tbody><p>4 rows × 4 columns</p><tr><th>1</th><td>20</td><td>John Doe</td><td>20</td><td>Lawyer</td></tr><tr><th>2</th><td>20</td><td>John Doe</td><td>60</td><td>Astronaut</td></tr><tr><th>3</th><td>40</td><td>Jane Doe</td><td>20</td><td>Lawyer</td></tr><tr><th>4</th><td>40</td><td>Jane Doe</td><td>60</td><td>Astronaut</td></tr></tbody></table>"
      ],
      "text/latex": [
       "\\begin{tabular}{r|cccc}\n",
       "\t& ID & Name & ID\\_1 & Job\\\\\n",
       "\t\\hline\n",
       "\t& Int64 & String & Int64 & String\\\\\n",
       "\t\\hline\n",
       "\t1 & 20 & John Doe & 20 & Lawyer \\\\\n",
       "\t2 & 20 & John Doe & 60 & Astronaut \\\\\n",
       "\t3 & 40 & Jane Doe & 20 & Lawyer \\\\\n",
       "\t4 & 40 & Jane Doe & 60 & Astronaut \\\\\n",
       "\\end{tabular}\n"
      ],
      "text/plain": [
       "\u001b[1m4×4 DataFrame\u001b[0m\n",
       "\u001b[1m Row \u001b[0m│\u001b[1m ID    \u001b[0m\u001b[1m Name     \u001b[0m\u001b[1m ID_1  \u001b[0m\u001b[1m Job       \u001b[0m\n",
       "\u001b[1m     \u001b[0m│\u001b[90m Int64 \u001b[0m\u001b[90m String   \u001b[0m\u001b[90m Int64 \u001b[0m\u001b[90m String    \u001b[0m\n",
       "─────┼───────────────────────────────────\n",
       "   1 │    20  John Doe     20  Lawyer\n",
       "   2 │    20  John Doe     60  Astronaut\n",
       "   3 │    40  Jane Doe     20  Lawyer\n",
       "   4 │    40  Jane Doe     60  Astronaut"
      ]
     },
     "execution_count": 39,
     "metadata": {},
     "output_type": "execute_result"
    }
   ],
   "source": [
    "crossjoin(people, jobs, makeunique = true)"
   ]
  },
  {
   "cell_type": "raw",
   "id": "6c6c78de-8f18-429a-8572-1ec81d835cbf",
   "metadata": {},
   "source": [
    "Conclusão\n",
    "\n",
    "Posso afirmar com certeza que o trabalho se torna muito mais produtivo com estas ferramentas, a manipulação de dados com Julia mostrada aqui é somente o básico para sobreviver, o universo vai muito além, nos dando a capacidade de usar até mesmo comandos sql completos. \n",
    "\n",
    "Julia é uma linguagem poderosa, com a vantagem de possuir bibliotecas feitas e otimizadas especificamente para o trabalho com dados, se você ainda assim não está contente com as bibliotecas disponíveis, pode trazer bibliotecas de outras linguagens como C, fortran, R e Python para dentro do seu código. \n",
    "\n",
    "Espero que esse breve post possa ter lhe adicionado mais uma ferramenta extramemente útil em seu dia a dia.\n",
    "\n",
    "Como demonstrado na documentação oficial, Julia também suporta outros formatos de dados, como: \n",
    "\n",
    "Apache Arrow (including Feather v2): Arrow.jl\n",
    "Apache Feather (v1): Feather.jl\n",
    "Apache Avro: Avro.jl\n",
    "JSON: JSONTables.jl\n",
    "Parquet: Parquet.jl\n",
    "Stata, SPSS, and SAS: StatFiles.jl\n",
    "Microsoft Excel (XLSX): XLSX.jl"
   ]
  },
  {
   "cell_type": "raw",
   "id": "eba3806d-38c1-4407-8341-854c248c47d2",
   "metadata": {},
   "source": [
    "Bibliografia\n",
    "\n",
    "https://dataframes.juliadata.org/stable/man/joins/\n",
    "https://dataframes.juliadata.org/stable/man/working_with_dataframes/\n",
    "https://dataframes.juliadata.org/stable/man/importing_and_exporting/\n",
    "https://dataframes.juliadata.org/stable/man/querying_frameworks/"
   ]
  },
  {
   "cell_type": "code",
   "execution_count": null,
   "id": "8cc8212e-ae6a-439c-ad0a-cb414b657690",
   "metadata": {},
   "outputs": [],
   "source": []
  }
 ],
 "metadata": {
  "kernelspec": {
   "display_name": "Julia 1.6.2",
   "language": "julia",
   "name": "julia-1.6"
  },
  "language_info": {
   "file_extension": ".jl",
   "mimetype": "application/julia",
   "name": "julia",
   "version": "1.6.2"
  }
 },
 "nbformat": 4,
 "nbformat_minor": 5
}
