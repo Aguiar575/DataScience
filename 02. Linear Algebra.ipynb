{
 "cells": [
  {
   "cell_type": "markdown",
   "metadata": {},
   "source": [
    "Álgebra Linear com Julia\n",
    "\n",
    "Todos os setores da tecnologia como, economia, estatística, criptomoedas e principalmente deep learning e machine learning, tem grandes raízes fundadas nos conceitos da álgebra linear.\n",
    "\n",
    "A Álgebra linear surgiu para resolver problemas de sistemas lineares e diferenciais. Pense, por exemplo, resolver um problema com uma matriz com mais de 4 dimensões já se torna um desafio, os conceitos apresentados a seguir vão deixar essa etapa um pouco menos penosa, porém não menos complexa.\n",
    "\n",
    "Entendendo os conceitos iniciais \n",
    "\n",
    "Variáveis escalares \n",
    "\n",
    "Toda variável que assume um valor de um número real, é considerado uma variável escalar, representam dados de tamanho fixo e individuais. \n",
    "\n",
    "x = 78\n",
    "\n",
    "     x se x ≥ 0\n",
    "x =   \n",
    "     −x sex < 0\n",
    "    \n",
    "\n",
    "Vetores \n",
    "\n",
    "Um vetor é uma coleção de variáveis escalares, poden ser descrita tanto em forma de linha quanto em coluna.\n",
    "\n",
    "Matrizes\n",
    "\n",
    "Matriz é uma tabela formada por números reiais dispostos por m linhas e n colunas. Ou seja, é um arranjo formado por m.n escalares.\n",
    "\n",
    "Matriz Triangular\n",
    "\n",
    "chama-se matriz triangular quando os elementos que estao acima ou abaixo da diagonal principal são todos nulos. Quandos os elementos acima da diagonal principal são nulos, chama-se matriz triangular inferior. Agora, quando os elemrntos abaixo da diagonal principal são nulos, enquadra-se como matriz triangular superior.\n",
    "https://pt.slideshare.net/pedropovoleri/lgebra-linear-01-aula-01matrizes-e-clculo-determinantes-14101981\n",
    "\n"
   ]
  },
  {
   "cell_type": "code",
   "execution_count": null,
   "metadata": {},
   "outputs": [],
   "source": [
    "# some packages we will use\n",
    "using LinearAlgebra\n",
    "using SparseArrays\n",
    "using Images\n",
    "using MAT"
   ]
  },
  {
   "cell_type": "raw",
   "metadata": {},
   "source": [
    "Uma matriz em julia é armazenada em memória como um vetor em coluna, como exemplificado abaixo."
   ]
  },
  {
   "cell_type": "markdown",
   "metadata": {},
   "source": [
    "![title](data/matrix_storage.png)\n",
    "### 🟢Getting started"
   ]
  },
  {
   "cell_type": "markdown",
   "metadata": {},
   "source": [
    "We will get started with creating a random matrix."
   ]
  },
  {
   "cell_type": "raw",
   "metadata": {},
   "source": [
    "Gerando uma matriz aleatória 10X10"
   ]
  },
  {
   "cell_type": "code",
   "execution_count": 3,
   "metadata": {},
   "outputs": [],
   "source": [
    "A = rand(10,10);"
   ]
  },
  {
   "cell_type": "raw",
   "metadata": {},
   "source": [
    "Operções básicas com matrizes\n",
    "\n",
    "Transposição de matriz\n",
    "\n",
    "Uma matriz transposta é fromada por uma matriz A, onde suas linhas e colunas são invertidas de forma ordenadas."
   ]
  },
  {
   "cell_type": "code",
   "execution_count": null,
   "metadata": {},
   "outputs": [],
   "source": [
    "# a transposição se dá pelo sinal \"'\"\n",
    "Atranspose = A'\n",
    "\n",
    "#Multiplicação de matrizes\n",
    "A = A*Atranspose;\n",
    "\n",
    "# outra maneira de fazer a multiplicação de matrizes transpostas seria:\n",
    "MultiplicarMatriz = A'A"
   ]
  },
  {
   "cell_type": "code",
   "execution_count": null,
   "metadata": {},
   "outputs": [],
   "source": [
    "percorrendo matrizes com Julia \n",
    "\n",
    "As duas maneiras são eficientes, e irão retornar o segundo valor da primeira linha da matriz."
   ]
  },
  {
   "cell_type": "code",
   "execution_count": 4,
   "metadata": {},
   "outputs": [
    {
     "name": "stdout",
     "output_type": "stream",
     "text": [
      "A[11] == A[1, 2] = true\n"
     ]
    }
   ],
   "source": [
    "@show A[11] == A[1,2];"
   ]
  },
  {
   "cell_type": "raw",
   "metadata": {},
   "source": [
    "Gerando um vetor aleatório"
   ]
  },
  {
   "cell_type": "code",
   "execution_count": 5,
   "metadata": {},
   "outputs": [
    {
     "name": "stdout",
     "output_type": "stream",
     "text": [
      "norm(A * x - b) = 3.689263419778939e-12\n"
     ]
    }
   ],
   "source": [
    "b = rand(10); #created a random vector of size 10"
   ]
  },
  {
   "cell_type": "raw",
   "metadata": {},
   "source": [
    "Resolvendo sistemas lineares \n",
    "\n",
    "Sistemas lineares são conjuntos de equações lineares que devem ser resolvidas ao mesmo tempo. São formadas por \"m\" equações e \"n\" incógnitas e a solução de um sistema linear é o resultado de todas as equações lineares.\n",
    "\n",
    "A função Ax = b é solucionada apena usando "
   ]
  },
  {
   "cell_type": "code",
   "execution_count": null,
   "metadata": {},
   "outputs": [],
   "source": [
    "x = A\\b; #x is the solutions to the linear system Ax=b"
   ]
  },
  {
   "cell_type": "code",
   "execution_count": null,
   "metadata": {},
   "outputs": [],
   "source": [
    "Descobrindo o tamanho de uma matriz"
   ]
  },
  {
   "cell_type": "code",
   "execution_count": 12,
   "metadata": {},
   "outputs": [
    {
     "data": {
      "text/plain": [
       "800"
      ]
     },
     "execution_count": 12,
     "metadata": {},
     "output_type": "execute_result"
    }
   ],
   "source": [
    "sizeof(A)"
   ]
  },
  {
   "cell_type": "markdown",
   "metadata": {},
   "source": [
    "Este é um array de números Float64, cada numero possui o tamanho de 8 bytes, em uma matriz 10*10.\n",
    "\n",
    "Para copiar uma matrix basta usar a função transpose."
   ]
  },
  {
   "cell_type": "code",
   "execution_count": 13,
   "metadata": {},
   "outputs": [
    {
     "data": {
      "text/plain": [
       "10×10 Matrix{Float64}:\n",
       " 0.249899  0.332817   0.376245   …  0.196724   0.533504   0.545816\n",
       " 0.51139   0.291047   0.0906729     0.0955851  0.145757   0.328184\n",
       " 0.709529  0.27097    0.0946509     0.661237   0.785675   0.723368\n",
       " 0.93995   0.491115   0.303725      0.705366   0.52196    0.999402\n",
       " 0.10152   0.819124   0.997739      0.616617   0.985117   0.588296\n",
       " 0.556655  0.0694413  0.229682   …  0.402893   0.0629227  0.145643\n",
       " 0.701979  0.743977   0.275638      0.258079   0.389031   0.737054\n",
       " 0.903376  0.746583   0.096613      0.411208   0.0589579  0.463674\n",
       " 0.409278  0.890039   0.789442      0.361242   0.456934   0.839767\n",
       " 0.381081  0.110646   0.654256      0.0364732  0.277699   0.366428"
      ]
     },
     "execution_count": 13,
     "metadata": {},
     "output_type": "execute_result"
    }
   ],
   "source": [
    "B = copy(Atranspose)"
   ]
  },
  {
   "cell_type": "markdown",
   "metadata": {},
   "source": [
    "Fatoração\n",
    "\n",
    "Este é um tópico muito usado em álgebra linear, fatoração é usada para decompor números ou expresssões, após decomposto, dado número ou expressão é apresentado como uma multiplicação. \n",
    "\n",
    "Anotação Por exemplo, 3 * 5, é a fatoração de 15.\n",
    "\n",
    "É importante dar uma atenção também para o teorema fundamental da aritmética, que diz:\n",
    "Todo inteiro maior do que 1 pode ser representado de maneira única (a menos da ordem) como um produto de fatores primos. Ou seja, todo  inteiro maior que 1 pode ser reprensentado por multiplicações de números primos, de preferência os menonres.\n",
    "\n",
    "A fatoração nos ajuda a simplificar expressões algébricas para resolvermos com mais facilidade, esse padrão é muito usado dentro de geometria analítica. "
   ]
  },
  {
   "cell_type": "markdown",
   "metadata": {},
   "source": [
    "Fatoração LU\n",
    "\n",
    "Fatoração LU tem como definição fatorar uma matriz A em um produto de matrizes LU, onde L é a matriz triangular inferior e U é a matriz triangular superior. Fatoração LU também é usada para solucionar problemas de sistemas lineares de uma matriz A."
   ]
  },
  {
   "cell_type": "code",
   "execution_count": 16,
   "metadata": {},
   "outputs": [
    {
     "data": {
      "text/plain": [
       "LU{Float64, Matrix{Float64}}\n",
       "L factor:\n",
       "10×10 Matrix{Float64}:\n",
       " 1.0       0.0        0.0        0.0        …   0.0        0.0       0.0\n",
       " 0.714777  1.0        0.0        0.0            0.0        0.0       0.0\n",
       " 0.431294  0.879205   1.0        0.0            0.0        0.0       0.0\n",
       " 0.402595  0.494058   0.42929    1.0            0.0        0.0       0.0\n",
       " 0.55784   0.0226054  0.41306    0.372797       0.0        0.0       0.0\n",
       " 0.63672   0.756747   0.509309   0.628019   …   0.0        0.0       0.0\n",
       " 0.610917  0.308904   0.236169   0.0853205      0.0        0.0       0.0\n",
       " 0.550327  0.675756   0.622177   0.13992        1.0        0.0       0.0\n",
       " 0.908177  0.621365   0.340249   0.274056       0.267463   1.0       0.0\n",
       " 0.717008  0.291136   0.291335  -0.268112      -0.146209  -0.292422  1.0\n",
       "U factor:\n",
       "10×10 Matrix{Float64}:\n",
       " 3.65267  2.61085  1.57538   1.47055   …   2.23148     2.01016     3.31727\n",
       " 0.0      1.23501  1.08582   0.610166      0.381498    0.834564    0.76739\n",
       " 0.0      0.0      0.801694  0.344159      0.189336    0.498796    0.272776\n",
       " 0.0      0.0      0.0       0.572375      0.0488353   0.0800869   0.156863\n",
       " 0.0      0.0      0.0       0.0          -0.120383   -0.353458   -0.455433\n",
       " 0.0      0.0      0.0       0.0       …   0.185715    0.362473    0.131452\n",
       " 0.0      0.0      0.0       0.0           0.292697    0.176947    0.00272506\n",
       " 0.0      0.0      0.0       0.0           0.023562    0.185526    0.0335832\n",
       " 0.0      0.0      0.0       0.0           0.0        -0.0124478   0.010775\n",
       " 0.0      0.0      0.0       0.0           0.0         0.0         0.00230443"
      ]
     },
     "execution_count": 16,
     "metadata": {},
     "output_type": "execute_result"
    }
   ],
   "source": [
    "luA = lu(A)"
   ]
  },
  {
   "cell_type": "raw",
   "metadata": {},
   "source": [
    "Agora que temos a fatoração da matriz, posso acessar a sua matriz de permutação:\n",
    "https://pt.wikipedia.org/wiki/Matriz_de_permutação"
   ]
  },
  {
   "cell_type": "code",
   "execution_count": null,
   "metadata": {},
   "outputs": [],
   "source": [
    "luA.P"
   ]
  },
  {
   "cell_type": "raw",
   "metadata": {},
   "source": [
    "Posso acessar também, as matrizes triangulares inferior e superior de A, usando:"
   ]
  },
  {
   "cell_type": "code",
   "execution_count": null,
   "metadata": {},
   "outputs": [],
   "source": [
    "luA.L\n",
    "luA.U"
   ]
  },
  {
   "cell_type": "markdown",
   "metadata": {},
   "source": [
    "Fatoração QR\n",
    "\n",
    "é uma fatoração de uma matriz A em um produto de uma matriz ortogonal Q e a matriz triangular superior R. É usado para resolver problemas de mínimos quadrados linear.\n",
    "\n",
    "Matriz Ortogonal\n",
    "\n",
    "Uma matriz é ortogonal quando sua matriz inversa, é igual à sua matriz transposta.\n",
    "\n",
    "Mínimos Quadrados Linear\n",
    "\n",
    "Esta é uma técnica matemática para otimização, para encontrar o melhor ajuste para um conjunto de dados, minimizando a soma dos quadrados das diferenças entre o valor estimado e os dos dados observados.\n",
    "https://pt.wikipedia.org/wiki/Método_dos_m%C3%ADnimos_quadrados\n",
    "\n",
    "Realizando uma fatoração QR:"
   ]
  },
  {
   "cell_type": "code",
   "execution_count": 18,
   "metadata": {},
   "outputs": [
    {
     "data": {
      "text/plain": [
       "LinearAlgebra.QRCompactWY{Float64, Matrix{Float64}}\n",
       "Q factor:\n",
       "10×10 LinearAlgebra.QRCompactWYQ{Float64, Matrix{Float64}}:\n",
       " -0.466731   0.556721     0.116392   …  -0.0400424   0.508724   -0.134302\n",
       " -0.333609  -0.420934     0.685112       0.108506    0.0656284  -0.184771\n",
       " -0.201298  -0.47984     -0.535905      -0.287502    0.108374   -0.211555\n",
       " -0.187904  -0.180434    -0.134551       0.0339839   0.242066    0.0759608\n",
       " -0.260361   0.29205     -0.382156       0.216634   -0.283205   -0.204056\n",
       " -0.297177  -0.265198    -0.0384313  …  -0.414573    0.0930191   0.259962\n",
       " -0.33465    0.160772    -0.0662353     -0.154548    0.049564    0.628225\n",
       " -0.285134   0.0871597   -0.0063624     -0.258897   -0.158312   -0.598196\n",
       " -0.256855  -0.246975    -0.22312        0.767019    0.198405    0.0427175\n",
       " -0.423874  -0.00321333   0.100231       0.0691344  -0.71471     0.183707\n",
       "R factor:\n",
       "10×10 Matrix{Float64}:\n",
       " -7.82607  -7.39288  -5.76651   -4.70661   …  -6.45377     -8.68162\n",
       "  0.0      -1.50819  -1.85438   -1.14894      -1.7525      -1.48307\n",
       "  0.0       0.0      -0.718806  -0.473242     -0.457496    -0.145766\n",
       "  0.0       0.0       0.0       -0.631469     -0.157768    -0.266435\n",
       "  0.0       0.0       0.0        0.0           0.677052     0.616209\n",
       "  0.0       0.0       0.0        0.0       …  -0.361714    -0.107839\n",
       "  0.0       0.0       0.0        0.0          -0.217956    -0.00306423\n",
       "  0.0       0.0       0.0        0.0           0.148502     0.0280145\n",
       "  0.0       0.0       0.0        0.0           0.00907696  -0.00774295\n",
       "  0.0       0.0       0.0        0.0           0.0          0.0014477"
      ]
     },
     "execution_count": 18,
     "metadata": {},
     "output_type": "execute_result"
    }
   ],
   "source": [
    "qrA = qr(A)"
   ]
  },
  {
   "cell_type": "markdown",
   "metadata": {},
   "source": [
    "Fatoração de Cholesky\n",
    "\n",
    "Em primeiro lugar, para que uma matriz possa passar por uma fatoração de Cholesky, ela deve ser positiva definida (de fomrma resumida, é analoga a um número real positivo) e hermitiana (uma matriz quadrada complexa que é idêntica a sua própria matriz adjunta.).\n",
    "\n",
    "A fatoração de Cholesky é o produto de uma matriz triangular inferior pela sua matriz adjunta. Também é comumente usada para resolver sistemas de equações lineares, utilizada principalmente em simulações de monte carlo.\n",
    "\n",
    "Anotacao: Esta decomposição é aproximadamente duas vezes mais rápida que a decomposição LU, quando aplicada em problemas com sistemas de equações lineares.\n",
    "\n",
    "L\\*L' = A \n",
    "\n",
    "Checando se a matriz é positiva definida:"
   ]
  },
  {
   "cell_type": "code",
   "execution_count": 20,
   "metadata": {},
   "outputs": [
    {
     "data": {
      "text/plain": [
       "true"
      ]
     },
     "execution_count": 20,
     "metadata": {},
     "output_type": "execute_result"
    }
   ],
   "source": [
    "isposdef(A)"
   ]
  },
  {
   "cell_type": "raw",
   "metadata": {},
   "source": [
    "Aplicando a fatoração de Cholesky sobre a matriz:"
   ]
  },
  {
   "cell_type": "code",
   "execution_count": 21,
   "metadata": {},
   "outputs": [
    {
     "data": {
      "text/plain": [
       "Cholesky{Float64, Matrix{Float64}}\n",
       "U factor:\n",
       "10×10 UpperTriangular{Float64, Matrix{Float64}}:\n",
       " 1.9112  1.36608  0.824288  0.769438  …   1.16758     1.05178    1.7357\n",
       "  ⋅      1.11131  0.977068  0.549051      0.343287    0.750974   0.690528\n",
       "  ⋅       ⋅       0.895374  0.384375      0.21146     0.557081   0.30465\n",
       "  ⋅       ⋅        ⋅        0.756554      0.0645496   0.105857   0.207339\n",
       "  ⋅       ⋅        ⋅         ⋅           -0.124073   -0.364293  -0.469395\n",
       "  ⋅       ⋅        ⋅         ⋅        …   0.233683    0.456096   0.165405\n",
       "  ⋅       ⋅        ⋅         ⋅            0.537544    0.281694  -0.00656903\n",
       "  ⋅       ⋅        ⋅         ⋅            0.061188    0.41714    0.102246\n",
       "  ⋅       ⋅        ⋅         ⋅             ⋅          0.157784  -0.0366897\n",
       "  ⋅       ⋅        ⋅         ⋅             ⋅           ⋅         0.0887722"
      ]
     },
     "execution_count": 21,
     "metadata": {},
     "output_type": "execute_result"
    }
   ],
   "source": [
    "cholA = cholesky(A)"
   ]
  },
  {
   "cell_type": "code",
   "execution_count": null,
   "metadata": {},
   "outputs": [],
   "source": [
    "Assim como a fatoração LU, também podemos acessae suas matriezes triangulares inferior e superior."
   ]
  },
  {
   "cell_type": "code",
   "execution_count": 23,
   "metadata": {},
   "outputs": [
    {
     "data": {
      "text/plain": [
       "10×10 LowerTriangular{Float64, Matrix{Float64}}:\n",
       " 1.9112     ⋅          ⋅        …   ⋅          ⋅          ⋅ \n",
       " 1.36608   1.11131     ⋅            ⋅          ⋅          ⋅ \n",
       " 0.824288  0.977068   0.895374      ⋅          ⋅          ⋅ \n",
       " 0.769438  0.549051   0.384375      ⋅          ⋅          ⋅ \n",
       " 1.06614   0.0251216  0.369843      ⋅          ⋅          ⋅ \n",
       " 1.2169    0.840979   0.456022  …   ⋅          ⋅          ⋅ \n",
       " 1.37034   0.323543   0.260853      ⋅          ⋅          ⋅ \n",
       " 1.16758   0.343287   0.21146      0.061188    ⋅          ⋅ \n",
       " 1.05178   0.750974   0.557081     0.41714    0.157784    ⋅ \n",
       " 1.7357    0.690528   0.30465      0.102246  -0.0366897  0.0887722"
      ]
     },
     "execution_count": 23,
     "metadata": {},
     "output_type": "execute_result"
    }
   ],
   "source": [
    "cholA.L"
   ]
  },
  {
   "cell_type": "code",
   "execution_count": 24,
   "metadata": {},
   "outputs": [
    {
     "data": {
      "text/plain": [
       "10×10 UpperTriangular{Float64, Matrix{Float64}}:\n",
       " 1.9112  1.36608  0.824288  0.769438  …   1.16758     1.05178    1.7357\n",
       "  ⋅      1.11131  0.977068  0.549051      0.343287    0.750974   0.690528\n",
       "  ⋅       ⋅       0.895374  0.384375      0.21146     0.557081   0.30465\n",
       "  ⋅       ⋅        ⋅        0.756554      0.0645496   0.105857   0.207339\n",
       "  ⋅       ⋅        ⋅         ⋅           -0.124073   -0.364293  -0.469395\n",
       "  ⋅       ⋅        ⋅         ⋅        …   0.233683    0.456096   0.165405\n",
       "  ⋅       ⋅        ⋅         ⋅            0.537544    0.281694  -0.00656903\n",
       "  ⋅       ⋅        ⋅         ⋅            0.061188    0.41714    0.102246\n",
       "  ⋅       ⋅        ⋅         ⋅             ⋅          0.157784  -0.0366897\n",
       "  ⋅       ⋅        ⋅         ⋅             ⋅           ⋅         0.0887722"
      ]
     },
     "execution_count": 24,
     "metadata": {},
     "output_type": "execute_result"
    }
   ],
   "source": [
    "cholA.U"
   ]
  },
  {
   "cell_type": "markdown",
   "metadata": {},
   "source": [
    "### 🟢Sparse Linear Algebra\n",
    "Sparse matrices are stored in Compressed Sparse Column (CSC) form"
   ]
  },
  {
   "cell_type": "code",
   "execution_count": 30,
   "metadata": {},
   "outputs": [
    {
     "data": {
      "text/plain": [
       "5×5 SparseMatrixCSC{Float64, Int64} with 12 stored entries:\n",
       " 0.27572    0.905187  0.102799   ⋅         ⋅ \n",
       " 0.789701   0.140221  0.763729   ⋅         ⋅ \n",
       "  ⋅          ⋅        0.209574   ⋅        0.856283\n",
       " 0.0953587   ⋅        0.577905   ⋅         ⋅ \n",
       "  ⋅          ⋅         ⋅        0.251486  0.238713"
      ]
     },
     "execution_count": 30,
     "metadata": {},
     "output_type": "execute_result"
    }
   ],
   "source": [
    "using SparseArrays\n",
    "S = sprand(5,5,2/5)"
   ]
  },
  {
   "cell_type": "code",
   "execution_count": 31,
   "metadata": {},
   "outputs": [
    {
     "data": {
      "text/plain": [
       "12-element Vector{Int64}:\n",
       " 1\n",
       " 2\n",
       " 4\n",
       " 1\n",
       " 2\n",
       " 1\n",
       " 2\n",
       " 3\n",
       " 4\n",
       " 5\n",
       " 3\n",
       " 5"
      ]
     },
     "execution_count": 31,
     "metadata": {},
     "output_type": "execute_result"
    }
   ],
   "source": [
    "S.rowval"
   ]
  },
  {
   "cell_type": "code",
   "execution_count": 32,
   "metadata": {},
   "outputs": [
    {
     "data": {
      "text/plain": [
       "5×5 Matrix{Float64}:\n",
       " 0.27572    0.905187  0.102799  0.0       0.0\n",
       " 0.789701   0.140221  0.763729  0.0       0.0\n",
       " 0.0        0.0       0.209574  0.0       0.856283\n",
       " 0.0953587  0.0       0.577905  0.0       0.0\n",
       " 0.0        0.0       0.0       0.251486  0.238713"
      ]
     },
     "execution_count": 32,
     "metadata": {},
     "output_type": "execute_result"
    }
   ],
   "source": [
    "Matrix(S)"
   ]
  },
  {
   "cell_type": "code",
   "execution_count": 33,
   "metadata": {},
   "outputs": [
    {
     "data": {
      "text/plain": [
       "6-element Vector{Int64}:\n",
       "  1\n",
       "  4\n",
       "  6\n",
       " 10\n",
       " 11\n",
       " 13"
      ]
     },
     "execution_count": 33,
     "metadata": {},
     "output_type": "execute_result"
    }
   ],
   "source": [
    "S.colptr"
   ]
  },
  {
   "cell_type": "code",
   "execution_count": 34,
   "metadata": {},
   "outputs": [
    {
     "data": {
      "text/plain": [
       "5"
      ]
     },
     "execution_count": 34,
     "metadata": {},
     "output_type": "execute_result"
    }
   ],
   "source": [
    "S.m"
   ]
  }
 ],
 "metadata": {
  "kernelspec": {
   "display_name": "Julia 1.6.2",
   "language": "julia",
   "name": "julia-1.6"
  },
  "language_info": {
   "file_extension": ".jl",
   "mimetype": "application/julia",
   "name": "julia",
   "version": "1.6.2"
  }
 },
 "nbformat": 4,
 "nbformat_minor": 4
}
